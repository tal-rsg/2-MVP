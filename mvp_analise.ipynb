{
 "cells": [
  {
   "cell_type": "markdown",
   "metadata": {},
   "source": [
    "# MVP-Analise Exploratória - PUC-Rio\n",
    "Aluno: Tales Gonçalves\n"
   ]
  },
  {
   "cell_type": "markdown",
   "metadata": {},
   "source": [
    "# 1. Objetivo\n",
    "Esta análise visa compreender os dados armazenados no aplicativo Strava que contém informações sobre as minhas atividades de ciclismo, corrida, musculação, entre outras, que são coletadas durante o uso de aparelho celular ou smart watch.\n",
    "\n",
    "O objetivo será verificar a relação da frequência cardíaca com as distâncias percorridas, os tempos das atividade e os ganhos de elevação para entender a evolução no condicionamento físico do atleta.\n",
    "\n",
    "Para conhecimento de mais detalhes sobre o aplicativo Strava acesse www.strava.com meu perfil https://www.strava.com/athletes/11601498."
   ]
  },
  {
   "cell_type": "markdown",
   "metadata": {},
   "source": [
    "## 1.1 Análise\n",
    "Nesta etapa realizamos a leitura do arquivo json que esta no meu diretório do Github (https://raw.githubusercontent.com/tal-rsg/mvp-analise/main/strava_data.json). Este arquivo foi carregado através de outra etapa que não será abordado nesta análise.\n",
    "\n",
    "As bibliotecas utilizadas para realizar uma análise explorartória dos dados utilizando a estatístia descritiva para compreender as informações serão carregadas no início do notebook. Cada trecho do código contém comentários para explicar o que cada função executa.\n",
    " "
   ]
  },
  {
   "cell_type": "code",
   "execution_count": 132,
   "metadata": {},
   "outputs": [],
   "source": [
    "# Configuração para não exibir os warnings\n",
    "import warnings\n",
    "warnings.filterwarnings(\"ignore\")\n",
    "\n",
    "#importando as bibliotecas necessárias\n",
    "import pandas as pd\n",
    "import numpy as np\n",
    "import matplotlib.pyplot as plt\n",
    "import missingno as ms # para tratamento de missings\n",
    "import seaborn as sns\n",
    "from datetime import datetime, timedelta\n",
    "from pandas.plotting import scatter_matrix\n",
    "## Transformações Numéricas\n",
    "from sklearn.preprocessing import MinMaxScaler # para normalização\n",
    "from sklearn.preprocessing import StandardScaler # para padronização\n",
    "## Transformações Categóricas\n",
    "from sklearn.preprocessing import OneHotEncoder\n",
    "from sklearn.preprocessing import OrdinalEncoder"
   ]
  },
  {
   "cell_type": "markdown",
   "metadata": {},
   "source": [
    "### 1.1.1 Explorando os dados\n",
    "\n",
    "Com a biblioteca Pandas é feita a leitura dos dados atravez da função read_json() diretamente do diretório no Github onde esta armazenado o arquivo que será analisado.\n",
    "Após a leitura do arquivo verificamos se o dataframe está de acordo com o Pandas usando a função type()."
   ]
  },
  {
   "cell_type": "code",
   "execution_count": 133,
   "metadata": {},
   "outputs": [
    {
     "data": {
      "text/plain": [
       "pandas.core.frame.DataFrame"
      ]
     },
     "execution_count": 133,
     "metadata": {},
     "output_type": "execute_result"
    }
   ],
   "source": [
    "# lendo arquivo json e visualizando as 10 primeiras linhas\n",
    "df = pd.read_json('https://raw.githubusercontent.com/tal-rsg/mvp-analise/main/strava_data.json')\n",
    "\n",
    "# verificando se é um dataframe\n",
    "type(df)"
   ]
  },
  {
   "cell_type": "markdown",
   "metadata": {},
   "source": [
    "Com o dataframe validado é verificado o tamanho dele."
   ]
  },
  {
   "cell_type": "code",
   "execution_count": 134,
   "metadata": {},
   "outputs": [
    {
     "data": {
      "text/plain": [
       "(893, 54)"
      ]
     },
     "execution_count": 134,
     "metadata": {},
     "output_type": "execute_result"
    }
   ],
   "source": [
    "# verificando a quantidade de instâncias (linhas) e atributos (colunas) do dataframe\n",
    "df.shape"
   ]
  },
  {
   "cell_type": "markdown",
   "metadata": {},
   "source": [
    "Listando as primerias linhas para uma pré-visualização das informações."
   ]
  },
  {
   "cell_type": "code",
   "execution_count": 135,
   "metadata": {},
   "outputs": [
    {
     "data": {
      "text/html": [
       "<div>\n",
       "<style scoped>\n",
       "    .dataframe tbody tr th:only-of-type {\n",
       "        vertical-align: middle;\n",
       "    }\n",
       "\n",
       "    .dataframe tbody tr th {\n",
       "        vertical-align: top;\n",
       "    }\n",
       "\n",
       "    .dataframe thead th {\n",
       "        text-align: right;\n",
       "    }\n",
       "</style>\n",
       "<table border=\"1\" class=\"dataframe\">\n",
       "  <thead>\n",
       "    <tr style=\"text-align: right;\">\n",
       "      <th></th>\n",
       "      <th>resource_state</th>\n",
       "      <th>athlete</th>\n",
       "      <th>name</th>\n",
       "      <th>distance</th>\n",
       "      <th>moving_time</th>\n",
       "      <th>elapsed_time</th>\n",
       "      <th>total_elevation_gain</th>\n",
       "      <th>type</th>\n",
       "      <th>sport_type</th>\n",
       "      <th>workout_type</th>\n",
       "      <th>...</th>\n",
       "      <th>elev_low</th>\n",
       "      <th>upload_id</th>\n",
       "      <th>upload_id_str</th>\n",
       "      <th>external_id</th>\n",
       "      <th>from_accepted_tag</th>\n",
       "      <th>pr_count</th>\n",
       "      <th>total_photo_count</th>\n",
       "      <th>has_kudoed</th>\n",
       "      <th>average_temp</th>\n",
       "      <th>average_cadence</th>\n",
       "    </tr>\n",
       "  </thead>\n",
       "  <tbody>\n",
       "    <tr>\n",
       "      <th>0</th>\n",
       "      <td>2</td>\n",
       "      <td>{'id': 11601498, 'resource_state': 1}</td>\n",
       "      <td>Morning Ride</td>\n",
       "      <td>21662.8</td>\n",
       "      <td>6352</td>\n",
       "      <td>16608</td>\n",
       "      <td>481.5</td>\n",
       "      <td>Ride</td>\n",
       "      <td>Ride</td>\n",
       "      <td>NaN</td>\n",
       "      <td>...</td>\n",
       "      <td>275.5</td>\n",
       "      <td>10882562098</td>\n",
       "      <td>10882562098</td>\n",
       "      <td>garmin_ping_303102490716</td>\n",
       "      <td>False</td>\n",
       "      <td>1</td>\n",
       "      <td>0</td>\n",
       "      <td>False</td>\n",
       "      <td>NaN</td>\n",
       "      <td>NaN</td>\n",
       "    </tr>\n",
       "    <tr>\n",
       "      <th>1</th>\n",
       "      <td>2</td>\n",
       "      <td>{'id': 11601498, 'resource_state': 1}</td>\n",
       "      <td>Morning Ride</td>\n",
       "      <td>20281.0</td>\n",
       "      <td>7385</td>\n",
       "      <td>15289</td>\n",
       "      <td>489.1</td>\n",
       "      <td>Ride</td>\n",
       "      <td>Ride</td>\n",
       "      <td>NaN</td>\n",
       "      <td>...</td>\n",
       "      <td>275.5</td>\n",
       "      <td>10869742534</td>\n",
       "      <td>10869742534</td>\n",
       "      <td>garmin_ping_302746503097</td>\n",
       "      <td>False</td>\n",
       "      <td>1</td>\n",
       "      <td>0</td>\n",
       "      <td>False</td>\n",
       "      <td>NaN</td>\n",
       "      <td>NaN</td>\n",
       "    </tr>\n",
       "    <tr>\n",
       "      <th>2</th>\n",
       "      <td>2</td>\n",
       "      <td>{'id': 11601498, 'resource_state': 1}</td>\n",
       "      <td>Morning Ride</td>\n",
       "      <td>21828.0</td>\n",
       "      <td>8172</td>\n",
       "      <td>16371</td>\n",
       "      <td>562.4</td>\n",
       "      <td>Ride</td>\n",
       "      <td>Ride</td>\n",
       "      <td>NaN</td>\n",
       "      <td>...</td>\n",
       "      <td>274.8</td>\n",
       "      <td>10840112548</td>\n",
       "      <td>10840112548</td>\n",
       "      <td>garmin_ping_301874679075</td>\n",
       "      <td>False</td>\n",
       "      <td>0</td>\n",
       "      <td>0</td>\n",
       "      <td>False</td>\n",
       "      <td>NaN</td>\n",
       "      <td>NaN</td>\n",
       "    </tr>\n",
       "    <tr>\n",
       "      <th>3</th>\n",
       "      <td>2</td>\n",
       "      <td>{'id': 11601498, 'resource_state': 1}</td>\n",
       "      <td>Morning Ride</td>\n",
       "      <td>24342.8</td>\n",
       "      <td>6423</td>\n",
       "      <td>15739</td>\n",
       "      <td>331.8</td>\n",
       "      <td>Ride</td>\n",
       "      <td>Ride</td>\n",
       "      <td>NaN</td>\n",
       "      <td>...</td>\n",
       "      <td>271.6</td>\n",
       "      <td>10808240635</td>\n",
       "      <td>10808240635</td>\n",
       "      <td>garmin_ping_300982622245</td>\n",
       "      <td>False</td>\n",
       "      <td>0</td>\n",
       "      <td>0</td>\n",
       "      <td>False</td>\n",
       "      <td>NaN</td>\n",
       "      <td>NaN</td>\n",
       "    </tr>\n",
       "    <tr>\n",
       "      <th>4</th>\n",
       "      <td>2</td>\n",
       "      <td>{'id': 11601498, 'resource_state': 1}</td>\n",
       "      <td>Morning Ride</td>\n",
       "      <td>19236.5</td>\n",
       "      <td>8046</td>\n",
       "      <td>15944</td>\n",
       "      <td>501.2</td>\n",
       "      <td>Ride</td>\n",
       "      <td>Ride</td>\n",
       "      <td>NaN</td>\n",
       "      <td>...</td>\n",
       "      <td>275.2</td>\n",
       "      <td>10742166684</td>\n",
       "      <td>10742166684</td>\n",
       "      <td>garmin_ping_299202202209</td>\n",
       "      <td>False</td>\n",
       "      <td>2</td>\n",
       "      <td>0</td>\n",
       "      <td>False</td>\n",
       "      <td>NaN</td>\n",
       "      <td>NaN</td>\n",
       "    </tr>\n",
       "  </tbody>\n",
       "</table>\n",
       "<p>5 rows × 54 columns</p>\n",
       "</div>"
      ],
      "text/plain": [
       "   resource_state                                athlete          name  \\\n",
       "0               2  {'id': 11601498, 'resource_state': 1}  Morning Ride   \n",
       "1               2  {'id': 11601498, 'resource_state': 1}  Morning Ride   \n",
       "2               2  {'id': 11601498, 'resource_state': 1}  Morning Ride   \n",
       "3               2  {'id': 11601498, 'resource_state': 1}  Morning Ride   \n",
       "4               2  {'id': 11601498, 'resource_state': 1}  Morning Ride   \n",
       "\n",
       "   distance  moving_time  elapsed_time  total_elevation_gain  type sport_type  \\\n",
       "0   21662.8         6352         16608                 481.5  Ride       Ride   \n",
       "1   20281.0         7385         15289                 489.1  Ride       Ride   \n",
       "2   21828.0         8172         16371                 562.4  Ride       Ride   \n",
       "3   24342.8         6423         15739                 331.8  Ride       Ride   \n",
       "4   19236.5         8046         15944                 501.2  Ride       Ride   \n",
       "\n",
       "   workout_type  ...  elev_low    upload_id upload_id_str  \\\n",
       "0           NaN  ...     275.5  10882562098   10882562098   \n",
       "1           NaN  ...     275.5  10869742534   10869742534   \n",
       "2           NaN  ...     274.8  10840112548   10840112548   \n",
       "3           NaN  ...     271.6  10808240635   10808240635   \n",
       "4           NaN  ...     275.2  10742166684   10742166684   \n",
       "\n",
       "                external_id  from_accepted_tag pr_count total_photo_count  \\\n",
       "0  garmin_ping_303102490716              False        1                 0   \n",
       "1  garmin_ping_302746503097              False        1                 0   \n",
       "2  garmin_ping_301874679075              False        0                 0   \n",
       "3  garmin_ping_300982622245              False        0                 0   \n",
       "4  garmin_ping_299202202209              False        2                 0   \n",
       "\n",
       "  has_kudoed  average_temp  average_cadence  \n",
       "0      False           NaN              NaN  \n",
       "1      False           NaN              NaN  \n",
       "2      False           NaN              NaN  \n",
       "3      False           NaN              NaN  \n",
       "4      False           NaN              NaN  \n",
       "\n",
       "[5 rows x 54 columns]"
      ]
     },
     "execution_count": 135,
     "metadata": {},
     "output_type": "execute_result"
    }
   ],
   "source": [
    "df.head()"
   ]
  },
  {
   "cell_type": "markdown",
   "metadata": {},
   "source": [
    "Por conter muitos atributos (colunas), será listado somente o nome destes."
   ]
  },
  {
   "cell_type": "code",
   "execution_count": 136,
   "metadata": {},
   "outputs": [
    {
     "data": {
      "text/plain": [
       "Index(['resource_state', 'athlete', 'name', 'distance', 'moving_time',\n",
       "       'elapsed_time', 'total_elevation_gain', 'type', 'sport_type',\n",
       "       'workout_type', 'id', 'start_date', 'start_date_local', 'timezone',\n",
       "       'utc_offset', 'location_city', 'location_state', 'location_country',\n",
       "       'achievement_count', 'kudos_count', 'comment_count', 'athlete_count',\n",
       "       'photo_count', 'map', 'trainer', 'commute', 'manual', 'private',\n",
       "       'visibility', 'flagged', 'gear_id', 'start_latlng', 'end_latlng',\n",
       "       'average_speed', 'max_speed', 'average_watts', 'kilojoules',\n",
       "       'device_watts', 'has_heartrate', 'average_heartrate', 'max_heartrate',\n",
       "       'heartrate_opt_out', 'display_hide_heartrate_option', 'elev_high',\n",
       "       'elev_low', 'upload_id', 'upload_id_str', 'external_id',\n",
       "       'from_accepted_tag', 'pr_count', 'total_photo_count', 'has_kudoed',\n",
       "       'average_temp', 'average_cadence'],\n",
       "      dtype='object')"
      ]
     },
     "execution_count": 136,
     "metadata": {},
     "output_type": "execute_result"
    }
   ],
   "source": [
    "# listando o nome das colunas\n",
    "df.columns"
   ]
  },
  {
   "cell_type": "code",
   "execution_count": 137,
   "metadata": {},
   "outputs": [
    {
     "data": {
      "text/plain": [
       "resource_state                   893\n",
       "athlete                          893\n",
       "name                             893\n",
       "distance                         893\n",
       "moving_time                      893\n",
       "elapsed_time                     893\n",
       "total_elevation_gain             893\n",
       "type                             893\n",
       "sport_type                       893\n",
       "workout_type                     319\n",
       "id                               893\n",
       "start_date                       893\n",
       "start_date_local                 893\n",
       "timezone                         893\n",
       "utc_offset                       893\n",
       "location_city                     44\n",
       "location_state                    44\n",
       "location_country                 893\n",
       "achievement_count                893\n",
       "kudos_count                      893\n",
       "comment_count                    893\n",
       "athlete_count                    893\n",
       "photo_count                      893\n",
       "map                              893\n",
       "trainer                          893\n",
       "commute                          893\n",
       "manual                           893\n",
       "private                          893\n",
       "visibility                       893\n",
       "flagged                          893\n",
       "gear_id                          704\n",
       "start_latlng                     893\n",
       "end_latlng                       893\n",
       "average_speed                    893\n",
       "max_speed                        893\n",
       "average_watts                    839\n",
       "kilojoules                       839\n",
       "device_watts                     839\n",
       "has_heartrate                    893\n",
       "average_heartrate                419\n",
       "max_heartrate                    419\n",
       "heartrate_opt_out                893\n",
       "display_hide_heartrate_option    893\n",
       "elev_high                        849\n",
       "elev_low                         849\n",
       "upload_id                        893\n",
       "upload_id_str                    893\n",
       "external_id                      892\n",
       "from_accepted_tag                893\n",
       "pr_count                         893\n",
       "total_photo_count                893\n",
       "has_kudoed                       893\n",
       "average_temp                     579\n",
       "average_cadence                   48\n",
       "dtype: int64"
      ]
     },
     "execution_count": 137,
     "metadata": {},
     "output_type": "execute_result"
    }
   ],
   "source": [
    "# exibindo a quantidade de linhas por colunas\n",
    "df.count()"
   ]
  },
  {
   "cell_type": "markdown",
   "metadata": {},
   "source": [
    "Analisando os atributos e se possuíem valores nulos."
   ]
  },
  {
   "cell_type": "code",
   "execution_count": 138,
   "metadata": {},
   "outputs": [
    {
     "data": {
      "text/plain": [
       "resource_state                     0\n",
       "athlete                            0\n",
       "name                               0\n",
       "distance                           0\n",
       "moving_time                        0\n",
       "elapsed_time                       0\n",
       "total_elevation_gain               0\n",
       "type                               0\n",
       "sport_type                         0\n",
       "workout_type                     574\n",
       "id                                 0\n",
       "start_date                         0\n",
       "start_date_local                   0\n",
       "timezone                           0\n",
       "utc_offset                         0\n",
       "location_city                    849\n",
       "location_state                   849\n",
       "location_country                   0\n",
       "achievement_count                  0\n",
       "kudos_count                        0\n",
       "comment_count                      0\n",
       "athlete_count                      0\n",
       "photo_count                        0\n",
       "map                                0\n",
       "trainer                            0\n",
       "commute                            0\n",
       "manual                             0\n",
       "private                            0\n",
       "visibility                         0\n",
       "flagged                            0\n",
       "gear_id                          189\n",
       "start_latlng                       0\n",
       "end_latlng                         0\n",
       "average_speed                      0\n",
       "max_speed                          0\n",
       "average_watts                     54\n",
       "kilojoules                        54\n",
       "device_watts                      54\n",
       "has_heartrate                      0\n",
       "average_heartrate                474\n",
       "max_heartrate                    474\n",
       "heartrate_opt_out                  0\n",
       "display_hide_heartrate_option      0\n",
       "elev_high                         44\n",
       "elev_low                          44\n",
       "upload_id                          0\n",
       "upload_id_str                      0\n",
       "external_id                        1\n",
       "from_accepted_tag                  0\n",
       "pr_count                           0\n",
       "total_photo_count                  0\n",
       "has_kudoed                         0\n",
       "average_temp                     314\n",
       "average_cadence                  845\n",
       "dtype: int64"
      ]
     },
     "execution_count": 138,
     "metadata": {},
     "output_type": "execute_result"
    }
   ],
   "source": [
    "# verificando se há atributos com valores vazios\n",
    "df.isnull().sum()"
   ]
  },
  {
   "cell_type": "markdown",
   "metadata": {},
   "source": [
    "Devido a quantidade de atributos, será criado um novo dataframe com a seleção somente dos necessários para esta análise.\n"
   ]
  },
  {
   "cell_type": "code",
   "execution_count": 139,
   "metadata": {},
   "outputs": [
    {
     "data": {
      "text/plain": [
       "pandas.core.frame.DataFrame"
      ]
     },
     "execution_count": 139,
     "metadata": {},
     "output_type": "execute_result"
    }
   ],
   "source": [
    "# criando um novo dataframe com a seleção de alguns atributos\n",
    "df_strava = df.loc[:,['name','distance','moving_time','total_elevation_gain','type','sport_type','id','start_date','average_speed','max_speed','average_heartrate','max_heartrate', 'elev_high', 'elev_low','average_temp']]\n",
    "\n",
    "\n",
    "# validando o dataframe novamente\n",
    "type(df_strava)\n"
   ]
  },
  {
   "cell_type": "markdown",
   "metadata": {},
   "source": [
    "Validado a construção do novo datraframe com a seleção de alguns atribuitos, continuamos a análise listando as primeiras linhas."
   ]
  },
  {
   "cell_type": "code",
   "execution_count": 140,
   "metadata": {},
   "outputs": [
    {
     "data": {
      "text/html": [
       "<div>\n",
       "<style scoped>\n",
       "    .dataframe tbody tr th:only-of-type {\n",
       "        vertical-align: middle;\n",
       "    }\n",
       "\n",
       "    .dataframe tbody tr th {\n",
       "        vertical-align: top;\n",
       "    }\n",
       "\n",
       "    .dataframe thead th {\n",
       "        text-align: right;\n",
       "    }\n",
       "</style>\n",
       "<table border=\"1\" class=\"dataframe\">\n",
       "  <thead>\n",
       "    <tr style=\"text-align: right;\">\n",
       "      <th></th>\n",
       "      <th>name</th>\n",
       "      <th>distance</th>\n",
       "      <th>moving_time</th>\n",
       "      <th>total_elevation_gain</th>\n",
       "      <th>type</th>\n",
       "      <th>sport_type</th>\n",
       "      <th>id</th>\n",
       "      <th>start_date</th>\n",
       "      <th>average_speed</th>\n",
       "      <th>max_speed</th>\n",
       "      <th>average_heartrate</th>\n",
       "      <th>max_heartrate</th>\n",
       "      <th>elev_high</th>\n",
       "      <th>elev_low</th>\n",
       "      <th>average_temp</th>\n",
       "    </tr>\n",
       "  </thead>\n",
       "  <tbody>\n",
       "    <tr>\n",
       "      <th>0</th>\n",
       "      <td>Morning Ride</td>\n",
       "      <td>21662.8</td>\n",
       "      <td>6352</td>\n",
       "      <td>481.5</td>\n",
       "      <td>Ride</td>\n",
       "      <td>Ride</td>\n",
       "      <td>10160257723</td>\n",
       "      <td>2023-11-04T11:11:10Z</td>\n",
       "      <td>3.410</td>\n",
       "      <td>13.032</td>\n",
       "      <td>152.8</td>\n",
       "      <td>189.0</td>\n",
       "      <td>599.5</td>\n",
       "      <td>275.5</td>\n",
       "      <td>NaN</td>\n",
       "    </tr>\n",
       "    <tr>\n",
       "      <th>1</th>\n",
       "      <td>Morning Ride</td>\n",
       "      <td>20281.0</td>\n",
       "      <td>7385</td>\n",
       "      <td>489.1</td>\n",
       "      <td>Ride</td>\n",
       "      <td>Ride</td>\n",
       "      <td>10148032615</td>\n",
       "      <td>2023-11-02T10:26:44Z</td>\n",
       "      <td>2.746</td>\n",
       "      <td>11.712</td>\n",
       "      <td>147.4</td>\n",
       "      <td>196.0</td>\n",
       "      <td>536.5</td>\n",
       "      <td>275.5</td>\n",
       "      <td>NaN</td>\n",
       "    </tr>\n",
       "    <tr>\n",
       "      <th>2</th>\n",
       "      <td>Morning Ride</td>\n",
       "      <td>21828.0</td>\n",
       "      <td>8172</td>\n",
       "      <td>562.4</td>\n",
       "      <td>Ride</td>\n",
       "      <td>Ride</td>\n",
       "      <td>10119802777</td>\n",
       "      <td>2023-10-28T11:03:56Z</td>\n",
       "      <td>2.671</td>\n",
       "      <td>11.045</td>\n",
       "      <td>151.9</td>\n",
       "      <td>194.0</td>\n",
       "      <td>533.1</td>\n",
       "      <td>274.8</td>\n",
       "      <td>NaN</td>\n",
       "    </tr>\n",
       "    <tr>\n",
       "      <th>3</th>\n",
       "      <td>Morning Ride</td>\n",
       "      <td>24342.8</td>\n",
       "      <td>6423</td>\n",
       "      <td>331.8</td>\n",
       "      <td>Ride</td>\n",
       "      <td>Ride</td>\n",
       "      <td>10089183560</td>\n",
       "      <td>2023-10-21T11:45:01Z</td>\n",
       "      <td>3.790</td>\n",
       "      <td>10.856</td>\n",
       "      <td>139.6</td>\n",
       "      <td>192.0</td>\n",
       "      <td>410.7</td>\n",
       "      <td>271.6</td>\n",
       "      <td>NaN</td>\n",
       "    </tr>\n",
       "    <tr>\n",
       "      <th>4</th>\n",
       "      <td>Morning Ride</td>\n",
       "      <td>19236.5</td>\n",
       "      <td>8046</td>\n",
       "      <td>501.2</td>\n",
       "      <td>Ride</td>\n",
       "      <td>Ride</td>\n",
       "      <td>10025746502</td>\n",
       "      <td>2023-10-12T10:54:38Z</td>\n",
       "      <td>2.391</td>\n",
       "      <td>10.828</td>\n",
       "      <td>146.8</td>\n",
       "      <td>189.0</td>\n",
       "      <td>548.4</td>\n",
       "      <td>275.2</td>\n",
       "      <td>NaN</td>\n",
       "    </tr>\n",
       "  </tbody>\n",
       "</table>\n",
       "</div>"
      ],
      "text/plain": [
       "           name  distance  moving_time  total_elevation_gain  type sport_type  \\\n",
       "0  Morning Ride   21662.8         6352                 481.5  Ride       Ride   \n",
       "1  Morning Ride   20281.0         7385                 489.1  Ride       Ride   \n",
       "2  Morning Ride   21828.0         8172                 562.4  Ride       Ride   \n",
       "3  Morning Ride   24342.8         6423                 331.8  Ride       Ride   \n",
       "4  Morning Ride   19236.5         8046                 501.2  Ride       Ride   \n",
       "\n",
       "            id            start_date  average_speed  max_speed  \\\n",
       "0  10160257723  2023-11-04T11:11:10Z          3.410     13.032   \n",
       "1  10148032615  2023-11-02T10:26:44Z          2.746     11.712   \n",
       "2  10119802777  2023-10-28T11:03:56Z          2.671     11.045   \n",
       "3  10089183560  2023-10-21T11:45:01Z          3.790     10.856   \n",
       "4  10025746502  2023-10-12T10:54:38Z          2.391     10.828   \n",
       "\n",
       "   average_heartrate  max_heartrate  elev_high  elev_low  average_temp  \n",
       "0              152.8          189.0      599.5     275.5           NaN  \n",
       "1              147.4          196.0      536.5     275.5           NaN  \n",
       "2              151.9          194.0      533.1     274.8           NaN  \n",
       "3              139.6          192.0      410.7     271.6           NaN  \n",
       "4              146.8          189.0      548.4     275.2           NaN  "
      ]
     },
     "execution_count": 140,
     "metadata": {},
     "output_type": "execute_result"
    }
   ],
   "source": [
    "# listando as primeiras linhas\n",
    "df_strava.head()"
   ]
  },
  {
   "cell_type": "markdown",
   "metadata": {},
   "source": [
    "Agora vamos analisar os tipos de atribuitos no novo dataframe"
   ]
  },
  {
   "cell_type": "code",
   "execution_count": 141,
   "metadata": {},
   "outputs": [
    {
     "data": {
      "text/plain": [
       "name                     object\n",
       "distance                float64\n",
       "moving_time               int64\n",
       "total_elevation_gain    float64\n",
       "type                     object\n",
       "sport_type               object\n",
       "id                        int64\n",
       "start_date               object\n",
       "average_speed           float64\n",
       "max_speed               float64\n",
       "average_heartrate       float64\n",
       "max_heartrate           float64\n",
       "elev_high               float64\n",
       "elev_low                float64\n",
       "average_temp            float64\n",
       "dtype: object"
      ]
     },
     "execution_count": 141,
     "metadata": {},
     "output_type": "execute_result"
    }
   ],
   "source": [
    "# listando os tipos  dos atributo\n",
    "df_strava.dtypes"
   ]
  },
  {
   "cell_type": "markdown",
   "metadata": {},
   "source": [
    "Observa-se que os atributos possuiem tipos diferentes e alguns com características de classificadores como a coluna \"sport_type\" que classifica o tipo de esporte praticado.\n",
    "Listamos  apenas os atributos contidos na coluna sport_type para checagem."
   ]
  },
  {
   "cell_type": "code",
   "execution_count": 142,
   "metadata": {},
   "outputs": [
    {
     "data": {
      "text/plain": [
       "array(['Ride', 'Workout', 'Walk', 'WeightTraining'], dtype=object)"
      ]
     },
     "execution_count": 142,
     "metadata": {},
     "output_type": "execute_result"
    }
   ],
   "source": [
    "# listando os valores únicos no atributo\n",
    "df_strava['sport_type'].unique()"
   ]
  },
  {
   "cell_type": "markdown",
   "metadata": {},
   "source": [
    "Checando a quantidade de registros por tipo de esporte registrado na coluna sport_type."
   ]
  },
  {
   "cell_type": "code",
   "execution_count": 143,
   "metadata": {},
   "outputs": [
    {
     "name": "stdout",
     "output_type": "stream",
     "text": [
      "       sport_type  total_Id\n",
      "0            Ride       842\n",
      "1            Walk         4\n",
      "2  WeightTraining        39\n",
      "3         Workout         8\n"
     ]
    }
   ],
   "source": [
    "# agrupando a coluna e realizando a contagem de registros\n",
    "totlspt = df_strava.groupby('sport_type')['id'].count().reset_index(name='total_Id')\n",
    "\n",
    "# imprimindo o resultado\n",
    "print(totlspt)"
   ]
  },
  {
   "cell_type": "markdown",
   "metadata": {},
   "source": [
    "Com o objetivo de centralizar a análise nas atividades de ciclismo, filtramos o dataframe pelo atributo sport_type igual a \"Ride\" e o atributo distance maior que dez kilometros.\n"
   ]
  },
  {
   "cell_type": "code",
   "execution_count": 144,
   "metadata": {},
   "outputs": [
    {
     "data": {
      "text/html": [
       "<div>\n",
       "<style scoped>\n",
       "    .dataframe tbody tr th:only-of-type {\n",
       "        vertical-align: middle;\n",
       "    }\n",
       "\n",
       "    .dataframe tbody tr th {\n",
       "        vertical-align: top;\n",
       "    }\n",
       "\n",
       "    .dataframe thead th {\n",
       "        text-align: right;\n",
       "    }\n",
       "</style>\n",
       "<table border=\"1\" class=\"dataframe\">\n",
       "  <thead>\n",
       "    <tr style=\"text-align: right;\">\n",
       "      <th></th>\n",
       "      <th>name</th>\n",
       "      <th>distance</th>\n",
       "      <th>moving_time</th>\n",
       "      <th>total_elevation_gain</th>\n",
       "      <th>type</th>\n",
       "      <th>sport_type</th>\n",
       "      <th>id</th>\n",
       "      <th>start_date</th>\n",
       "      <th>average_speed</th>\n",
       "      <th>max_speed</th>\n",
       "      <th>average_heartrate</th>\n",
       "      <th>max_heartrate</th>\n",
       "      <th>elev_high</th>\n",
       "      <th>elev_low</th>\n",
       "      <th>average_temp</th>\n",
       "    </tr>\n",
       "  </thead>\n",
       "  <tbody>\n",
       "    <tr>\n",
       "      <th>0</th>\n",
       "      <td>Morning Ride</td>\n",
       "      <td>21662.8</td>\n",
       "      <td>6352</td>\n",
       "      <td>481.5</td>\n",
       "      <td>Ride</td>\n",
       "      <td>Ride</td>\n",
       "      <td>10160257723</td>\n",
       "      <td>2023-11-04T11:11:10Z</td>\n",
       "      <td>3.410</td>\n",
       "      <td>13.032</td>\n",
       "      <td>152.8</td>\n",
       "      <td>189.0</td>\n",
       "      <td>599.5</td>\n",
       "      <td>275.5</td>\n",
       "      <td>NaN</td>\n",
       "    </tr>\n",
       "    <tr>\n",
       "      <th>1</th>\n",
       "      <td>Morning Ride</td>\n",
       "      <td>20281.0</td>\n",
       "      <td>7385</td>\n",
       "      <td>489.1</td>\n",
       "      <td>Ride</td>\n",
       "      <td>Ride</td>\n",
       "      <td>10148032615</td>\n",
       "      <td>2023-11-02T10:26:44Z</td>\n",
       "      <td>2.746</td>\n",
       "      <td>11.712</td>\n",
       "      <td>147.4</td>\n",
       "      <td>196.0</td>\n",
       "      <td>536.5</td>\n",
       "      <td>275.5</td>\n",
       "      <td>NaN</td>\n",
       "    </tr>\n",
       "    <tr>\n",
       "      <th>2</th>\n",
       "      <td>Morning Ride</td>\n",
       "      <td>21828.0</td>\n",
       "      <td>8172</td>\n",
       "      <td>562.4</td>\n",
       "      <td>Ride</td>\n",
       "      <td>Ride</td>\n",
       "      <td>10119802777</td>\n",
       "      <td>2023-10-28T11:03:56Z</td>\n",
       "      <td>2.671</td>\n",
       "      <td>11.045</td>\n",
       "      <td>151.9</td>\n",
       "      <td>194.0</td>\n",
       "      <td>533.1</td>\n",
       "      <td>274.8</td>\n",
       "      <td>NaN</td>\n",
       "    </tr>\n",
       "    <tr>\n",
       "      <th>3</th>\n",
       "      <td>Morning Ride</td>\n",
       "      <td>24342.8</td>\n",
       "      <td>6423</td>\n",
       "      <td>331.8</td>\n",
       "      <td>Ride</td>\n",
       "      <td>Ride</td>\n",
       "      <td>10089183560</td>\n",
       "      <td>2023-10-21T11:45:01Z</td>\n",
       "      <td>3.790</td>\n",
       "      <td>10.856</td>\n",
       "      <td>139.6</td>\n",
       "      <td>192.0</td>\n",
       "      <td>410.7</td>\n",
       "      <td>271.6</td>\n",
       "      <td>NaN</td>\n",
       "    </tr>\n",
       "    <tr>\n",
       "      <th>4</th>\n",
       "      <td>Morning Ride</td>\n",
       "      <td>19236.5</td>\n",
       "      <td>8046</td>\n",
       "      <td>501.2</td>\n",
       "      <td>Ride</td>\n",
       "      <td>Ride</td>\n",
       "      <td>10025746502</td>\n",
       "      <td>2023-10-12T10:54:38Z</td>\n",
       "      <td>2.391</td>\n",
       "      <td>10.828</td>\n",
       "      <td>146.8</td>\n",
       "      <td>189.0</td>\n",
       "      <td>548.4</td>\n",
       "      <td>275.2</td>\n",
       "      <td>NaN</td>\n",
       "    </tr>\n",
       "  </tbody>\n",
       "</table>\n",
       "</div>"
      ],
      "text/plain": [
       "           name  distance  moving_time  total_elevation_gain  type sport_type  \\\n",
       "0  Morning Ride   21662.8         6352                 481.5  Ride       Ride   \n",
       "1  Morning Ride   20281.0         7385                 489.1  Ride       Ride   \n",
       "2  Morning Ride   21828.0         8172                 562.4  Ride       Ride   \n",
       "3  Morning Ride   24342.8         6423                 331.8  Ride       Ride   \n",
       "4  Morning Ride   19236.5         8046                 501.2  Ride       Ride   \n",
       "\n",
       "            id            start_date  average_speed  max_speed  \\\n",
       "0  10160257723  2023-11-04T11:11:10Z          3.410     13.032   \n",
       "1  10148032615  2023-11-02T10:26:44Z          2.746     11.712   \n",
       "2  10119802777  2023-10-28T11:03:56Z          2.671     11.045   \n",
       "3  10089183560  2023-10-21T11:45:01Z          3.790     10.856   \n",
       "4  10025746502  2023-10-12T10:54:38Z          2.391     10.828   \n",
       "\n",
       "   average_heartrate  max_heartrate  elev_high  elev_low  average_temp  \n",
       "0              152.8          189.0      599.5     275.5           NaN  \n",
       "1              147.4          196.0      536.5     275.5           NaN  \n",
       "2              151.9          194.0      533.1     274.8           NaN  \n",
       "3              139.6          192.0      410.7     271.6           NaN  \n",
       "4              146.8          189.0      548.4     275.2           NaN  "
      ]
     },
     "execution_count": 144,
     "metadata": {},
     "output_type": "execute_result"
    }
   ],
   "source": [
    "# novo dataframe com o filtro por tipo de esporte\n",
    "df_ride = df_strava.loc[(df_strava['sport_type'] == \"Ride\") & (df_strava['distance'] >= 10000)]\n",
    "\n",
    "# listando as primeiras linhas\n",
    "df_ride.head()"
   ]
  },
  {
   "cell_type": "markdown",
   "metadata": {},
   "source": [
    "Validando se o novo dataframe só contém um tipo de valor na coluna sport_type"
   ]
  },
  {
   "cell_type": "code",
   "execution_count": 145,
   "metadata": {},
   "outputs": [
    {
     "data": {
      "text/plain": [
       "array(['Ride'], dtype=object)"
      ]
     },
     "execution_count": 145,
     "metadata": {},
     "output_type": "execute_result"
    }
   ],
   "source": [
    "df_ride['sport_type'].unique()"
   ]
  },
  {
   "cell_type": "markdown",
   "metadata": {},
   "source": [
    "Visualizando o resumo estatístico dos atribuitos."
   ]
  },
  {
   "cell_type": "code",
   "execution_count": 146,
   "metadata": {},
   "outputs": [
    {
     "data": {
      "text/html": [
       "<div>\n",
       "<style scoped>\n",
       "    .dataframe tbody tr th:only-of-type {\n",
       "        vertical-align: middle;\n",
       "    }\n",
       "\n",
       "    .dataframe tbody tr th {\n",
       "        vertical-align: top;\n",
       "    }\n",
       "\n",
       "    .dataframe thead th {\n",
       "        text-align: right;\n",
       "    }\n",
       "</style>\n",
       "<table border=\"1\" class=\"dataframe\">\n",
       "  <thead>\n",
       "    <tr style=\"text-align: right;\">\n",
       "      <th></th>\n",
       "      <th>distance</th>\n",
       "      <th>moving_time</th>\n",
       "      <th>total_elevation_gain</th>\n",
       "      <th>id</th>\n",
       "      <th>average_speed</th>\n",
       "      <th>max_speed</th>\n",
       "      <th>average_heartrate</th>\n",
       "      <th>max_heartrate</th>\n",
       "      <th>elev_high</th>\n",
       "      <th>elev_low</th>\n",
       "      <th>average_temp</th>\n",
       "    </tr>\n",
       "  </thead>\n",
       "  <tbody>\n",
       "    <tr>\n",
       "      <th>count</th>\n",
       "      <td>698.000000</td>\n",
       "      <td>698.000000</td>\n",
       "      <td>698.000000</td>\n",
       "      <td>6.980000e+02</td>\n",
       "      <td>698.000000</td>\n",
       "      <td>698.000000</td>\n",
       "      <td>370.000000</td>\n",
       "      <td>370.000000</td>\n",
       "      <td>698.000000</td>\n",
       "      <td>698.000000</td>\n",
       "      <td>438.000000</td>\n",
       "    </tr>\n",
       "    <tr>\n",
       "      <th>mean</th>\n",
       "      <td>35981.371633</td>\n",
       "      <td>6829.449857</td>\n",
       "      <td>557.890401</td>\n",
       "      <td>3.390663e+09</td>\n",
       "      <td>5.388079</td>\n",
       "      <td>13.765044</td>\n",
       "      <td>151.970000</td>\n",
       "      <td>182.370270</td>\n",
       "      <td>459.484097</td>\n",
       "      <td>228.584384</td>\n",
       "      <td>25.538813</td>\n",
       "    </tr>\n",
       "    <tr>\n",
       "      <th>std</th>\n",
       "      <td>19156.290060</td>\n",
       "      <td>3327.196663</td>\n",
       "      <td>332.395782</td>\n",
       "      <td>2.476820e+09</td>\n",
       "      <td>1.579684</td>\n",
       "      <td>2.700869</td>\n",
       "      <td>8.096571</td>\n",
       "      <td>9.569355</td>\n",
       "      <td>197.240437</td>\n",
       "      <td>109.222479</td>\n",
       "      <td>4.341498</td>\n",
       "    </tr>\n",
       "    <tr>\n",
       "      <th>min</th>\n",
       "      <td>10012.200000</td>\n",
       "      <td>798.000000</td>\n",
       "      <td>0.000000</td>\n",
       "      <td>4.056882e+08</td>\n",
       "      <td>1.761000</td>\n",
       "      <td>5.300000</td>\n",
       "      <td>109.200000</td>\n",
       "      <td>141.000000</td>\n",
       "      <td>0.000000</td>\n",
       "      <td>-34.200000</td>\n",
       "      <td>12.000000</td>\n",
       "    </tr>\n",
       "    <tr>\n",
       "      <th>25%</th>\n",
       "      <td>24651.575000</td>\n",
       "      <td>4672.250000</td>\n",
       "      <td>354.000000</td>\n",
       "      <td>1.357568e+09</td>\n",
       "      <td>4.439500</td>\n",
       "      <td>12.277500</td>\n",
       "      <td>147.325000</td>\n",
       "      <td>176.000000</td>\n",
       "      <td>404.650000</td>\n",
       "      <td>218.200000</td>\n",
       "      <td>23.000000</td>\n",
       "    </tr>\n",
       "    <tr>\n",
       "      <th>50%</th>\n",
       "      <td>31587.550000</td>\n",
       "      <td>5917.500000</td>\n",
       "      <td>511.000000</td>\n",
       "      <td>2.717969e+09</td>\n",
       "      <td>5.401000</td>\n",
       "      <td>13.500000</td>\n",
       "      <td>152.050000</td>\n",
       "      <td>183.000000</td>\n",
       "      <td>464.900000</td>\n",
       "      <td>263.200000</td>\n",
       "      <td>26.000000</td>\n",
       "    </tr>\n",
       "    <tr>\n",
       "      <th>75%</th>\n",
       "      <td>43994.825000</td>\n",
       "      <td>8473.250000</td>\n",
       "      <td>717.050000</td>\n",
       "      <td>5.093020e+09</td>\n",
       "      <td>6.094000</td>\n",
       "      <td>14.900000</td>\n",
       "      <td>157.425000</td>\n",
       "      <td>188.000000</td>\n",
       "      <td>546.350000</td>\n",
       "      <td>276.975000</td>\n",
       "      <td>28.000000</td>\n",
       "    </tr>\n",
       "    <tr>\n",
       "      <th>max</th>\n",
       "      <td>200526.000000</td>\n",
       "      <td>36664.000000</td>\n",
       "      <td>2764.000000</td>\n",
       "      <td>1.016026e+10</td>\n",
       "      <td>26.472000</td>\n",
       "      <td>29.000000</td>\n",
       "      <td>174.500000</td>\n",
       "      <td>232.000000</td>\n",
       "      <td>1615.600000</td>\n",
       "      <td>985.500000</td>\n",
       "      <td>38.000000</td>\n",
       "    </tr>\n",
       "  </tbody>\n",
       "</table>\n",
       "</div>"
      ],
      "text/plain": [
       "            distance   moving_time  total_elevation_gain            id  \\\n",
       "count     698.000000    698.000000            698.000000  6.980000e+02   \n",
       "mean    35981.371633   6829.449857            557.890401  3.390663e+09   \n",
       "std     19156.290060   3327.196663            332.395782  2.476820e+09   \n",
       "min     10012.200000    798.000000              0.000000  4.056882e+08   \n",
       "25%     24651.575000   4672.250000            354.000000  1.357568e+09   \n",
       "50%     31587.550000   5917.500000            511.000000  2.717969e+09   \n",
       "75%     43994.825000   8473.250000            717.050000  5.093020e+09   \n",
       "max    200526.000000  36664.000000           2764.000000  1.016026e+10   \n",
       "\n",
       "       average_speed   max_speed  average_heartrate  max_heartrate  \\\n",
       "count     698.000000  698.000000         370.000000     370.000000   \n",
       "mean        5.388079   13.765044         151.970000     182.370270   \n",
       "std         1.579684    2.700869           8.096571       9.569355   \n",
       "min         1.761000    5.300000         109.200000     141.000000   \n",
       "25%         4.439500   12.277500         147.325000     176.000000   \n",
       "50%         5.401000   13.500000         152.050000     183.000000   \n",
       "75%         6.094000   14.900000         157.425000     188.000000   \n",
       "max        26.472000   29.000000         174.500000     232.000000   \n",
       "\n",
       "         elev_high    elev_low  average_temp  \n",
       "count   698.000000  698.000000    438.000000  \n",
       "mean    459.484097  228.584384     25.538813  \n",
       "std     197.240437  109.222479      4.341498  \n",
       "min       0.000000  -34.200000     12.000000  \n",
       "25%     404.650000  218.200000     23.000000  \n",
       "50%     464.900000  263.200000     26.000000  \n",
       "75%     546.350000  276.975000     28.000000  \n",
       "max    1615.600000  985.500000     38.000000  "
      ]
     },
     "execution_count": 146,
     "metadata": {},
     "output_type": "execute_result"
    }
   ],
   "source": [
    "# exibindo o sumário estatístico\n",
    "df_ride.describe()"
   ]
  },
  {
   "cell_type": "markdown",
   "metadata": {},
   "source": [
    "Visualizando a distribuição histórica dos atributos"
   ]
  },
  {
   "cell_type": "code",
   "execution_count": 147,
   "metadata": {},
   "outputs": [
    {
     "data": {
      "text/plain": [
       "<Figure size 432x288 with 0 Axes>"
      ]
     },
     "metadata": {},
     "output_type": "display_data"
    },
    {
     "data": {
      "image/png": "[encoded data removed]",
      "text/plain": [
       "<Figure size 1440x720 with 12 Axes>"
      ]
     },
     "metadata": {},
     "output_type": "display_data"
    }
   ],
   "source": [
    "#visualizando a distribuição dos dados\n",
    "plt.figure();\n",
    "\n",
    "df_ride.hist(figsize=(20, 10));"
   ]
  },
  {
   "cell_type": "markdown",
   "metadata": {},
   "source": [
    "No gráfico acima é possível observar que os dados não possuem uma assimetria do seus valores."
   ]
  },
  {
   "cell_type": "markdown",
   "metadata": {},
   "source": [
    "## 1.2 Pré-processamento\n",
    "Neste ponto iremos tratar os valores nulos e algumas informações para verificar se as informações respondem as perguntas iniciais."
   ]
  },
  {
   "cell_type": "markdown",
   "metadata": {},
   "source": [
    "### 1.2.1 Limpando os dados\n",
    "\n",
    "Analisando se há valores nulos no dataframe"
   ]
  },
  {
   "cell_type": "code",
   "execution_count": 148,
   "metadata": {},
   "outputs": [
    {
     "data": {
      "text/plain": [
       "Text(0.5, 1.0, 'Verificando se há valores nulos')"
      ]
     },
     "execution_count": 148,
     "metadata": {},
     "output_type": "execute_result"
    },
    {
     "data": {
      "image/png": "[encoded data removed]",
      "text/plain": [
       "<Figure size 1800x720 with 2 Axes>"
      ]
     },
     "metadata": {},
     "output_type": "display_data"
    }
   ],
   "source": [
    "# exibindo visualização matricial da nulidade do dataset\n",
    "ms.matrix(df_ride)\n",
    "plt.title('Verificando se há valores nulos')"
   ]
  },
  {
   "cell_type": "markdown",
   "metadata": {},
   "source": [
    "Verificando a quantidade de valores nulos"
   ]
  },
  {
   "cell_type": "code",
   "execution_count": 149,
   "metadata": {},
   "outputs": [
    {
     "data": {
      "text/plain": [
       "name                      0\n",
       "distance                  0\n",
       "moving_time               0\n",
       "total_elevation_gain      0\n",
       "type                      0\n",
       "sport_type                0\n",
       "id                        0\n",
       "start_date                0\n",
       "average_speed             0\n",
       "max_speed                 0\n",
       "average_heartrate       328\n",
       "max_heartrate           328\n",
       "elev_high                 0\n",
       "elev_low                  0\n",
       "average_temp            260\n",
       "dtype: int64"
      ]
     },
     "execution_count": 149,
     "metadata": {},
     "output_type": "execute_result"
    }
   ],
   "source": [
    "df_ride.isnull().sum()"
   ]
  },
  {
   "cell_type": "markdown",
   "metadata": {},
   "source": [
    "### 1.2.2 Tratando os dados\n",
    "\n",
    "Indenfica-se que os atributos average_heartrate, max_heartrate e average_temp possuiem uma quantidade consideravel de valores nulos, sendo assim será feito o tratamento dos valores nulos criando novos valores usando o calculo da mediana.\n"
   ]
  },
  {
   "cell_type": "code",
   "execution_count": 150,
   "metadata": {},
   "outputs": [
    {
     "data": {
      "text/plain": [
       "Text(0.5, 1.0, 'Visulizando se há valores nulos')"
      ]
     },
     "execution_count": 150,
     "metadata": {},
     "output_type": "execute_result"
    },
    {
     "data": {
      "image/png": "[encoded data removed]",
      "text/plain": [
       "<Figure size 1800x720 with 2 Axes>"
      ]
     },
     "metadata": {},
     "output_type": "display_data"
    }
   ],
   "source": [
    "# substituindo os NaN de 'Glucose', 'BloodPressure' e 'BMI' pela mediana da coluna\n",
    "df_ride['average_heartrate'].fillna(df_ride['average_heartrate'].median(), inplace=True)\n",
    "df_ride['max_heartrate'].fillna(df_ride['max_heartrate'].median(), inplace=True)\n",
    "df_ride['average_temp'].fillna(df_ride['average_temp'].median(), inplace=True)\n",
    "\n",
    "# visualizando se ha valores nulos\n",
    "ms.matrix(df_ride)\n",
    "plt.title('Visulizando se há valores nulos')"
   ]
  },
  {
   "cell_type": "markdown",
   "metadata": {},
   "source": [
    "No gráfico acima verifica-se que o datraframe não possuí mais valores nulores para serem tratados."
   ]
  },
  {
   "cell_type": "markdown",
   "metadata": {},
   "source": [
    "Com o objetivo de verificar a relação da frequencia cardiáca com o esforço desenvolvido em relação ao tempo de atividades, a distancia percorrida e o ganho de elevação obtido, verifica-se a distribuição dos valores averga_heartrate."
   ]
  },
  {
   "cell_type": "code",
   "execution_count": 151,
   "metadata": {},
   "outputs": [],
   "source": [
    "# criando um novo dataframe para análise considerando somente algumas colunas\n",
    "\n",
    "df_analise = df_ride.loc[:,['distance','start_date','moving_time','total_elevation_gain','average_heartrate','max_heartrate', 'elev_high']]\n"
   ]
  },
  {
   "cell_type": "code",
   "execution_count": 152,
   "metadata": {},
   "outputs": [
    {
     "data": {
      "text/plain": [
       "Text(0.5, 1.0, 'Distribuição da distancia')"
      ]
     },
     "execution_count": 152,
     "metadata": {},
     "output_type": "execute_result"
    },
    {
     "data": {
      "image/png": "[encoded data removed]",
      "text/plain": [
       "<Figure size 432x288 with 1 Axes>"
      ]
     },
     "metadata": {},
     "output_type": "display_data"
    }
   ],
   "source": [
    "df_analise['distance'].plot.box()\n",
    "plt.title('Distribuição da distancia')"
   ]
  },
  {
   "cell_type": "markdown",
   "metadata": {},
   "source": [
    "No gráfico box plot acima é possível verificar que o atributo distance tem a sua concentração entre 25 e 50 kilomentros, mas observa-se que há um outlier em 200 kilometros, mostrando assim uma discrepancia dos dados.\n",
    "\n",
    "Agora verificarmos o atributo average_heartrate"
   ]
  },
  {
   "cell_type": "code",
   "execution_count": 153,
   "metadata": {},
   "outputs": [
    {
     "data": {
      "text/plain": [
       "Text(0.5, 1.0, 'Distribuição do valor máximo de batimentos cardiacos')"
      ]
     },
     "execution_count": 153,
     "metadata": {},
     "output_type": "execute_result"
    },
    {
     "data": {
      "image/png": "[encoded data removed]",
      "text/plain": [
       "<Figure size 432x288 with 1 Axes>"
      ]
     },
     "metadata": {},
     "output_type": "display_data"
    }
   ],
   "source": [
    "df_analise['max_heartrate'].plot.box()\n",
    "plt.title('Distribuição do valor máximo de batimentos cardiacos')"
   ]
  },
  {
   "cell_type": "markdown",
   "metadata": {},
   "source": [
    "Conforme o gráfico acima é possível verificar que os valores estão bastante distribuídos."
   ]
  },
  {
   "cell_type": "markdown",
   "metadata": {},
   "source": [
    "### 1.2.3 Novos atributos\n",
    "\n",
    "Para entender a relação do esforço com a idade no periodo da atividade e definir uma zona de treino conforme a frequência cardiaca serão criados novos atributo para continuidade das análises."
   ]
  },
  {
   "cell_type": "markdown",
   "metadata": {},
   "source": [
    "Segundo as literaturas a frequencia cardiaca de um indivíduo é calculada usando a formula: valor 220 – (Idade) = Frequência Cardíaca Máxima, porém o mais indicado é a realização de exames clínicos para se ter mais precisão.\n",
    "Neste estudo utilizamos a formula acima e criamos um novo atributo no dataframe para auxiliar nas análises.\n",
    "Os atributos serão a idade do atleta no período da atividade e a frequência cardiaca de acordo com a fórumla acima."
   ]
  },
  {
   "cell_type": "code",
   "execution_count": 154,
   "metadata": {},
   "outputs": [
    {
     "data": {
      "text/html": [
       "<div>\n",
       "<style scoped>\n",
       "    .dataframe tbody tr th:only-of-type {\n",
       "        vertical-align: middle;\n",
       "    }\n",
       "\n",
       "    .dataframe tbody tr th {\n",
       "        vertical-align: top;\n",
       "    }\n",
       "\n",
       "    .dataframe thead th {\n",
       "        text-align: right;\n",
       "    }\n",
       "</style>\n",
       "<table border=\"1\" class=\"dataframe\">\n",
       "  <thead>\n",
       "    <tr style=\"text-align: right;\">\n",
       "      <th></th>\n",
       "      <th>distance</th>\n",
       "      <th>start_date</th>\n",
       "      <th>moving_time</th>\n",
       "      <th>total_elevation_gain</th>\n",
       "      <th>average_heartrate</th>\n",
       "      <th>max_heartrate</th>\n",
       "      <th>elev_high</th>\n",
       "      <th>Age</th>\n",
       "      <th>FCmax</th>\n",
       "    </tr>\n",
       "  </thead>\n",
       "  <tbody>\n",
       "    <tr>\n",
       "      <th>0</th>\n",
       "      <td>21662.8</td>\n",
       "      <td>2023-11-04 11:11:10+00:00</td>\n",
       "      <td>6352</td>\n",
       "      <td>481.5</td>\n",
       "      <td>152.8</td>\n",
       "      <td>189.0</td>\n",
       "      <td>599.5</td>\n",
       "      <td>43</td>\n",
       "      <td>177</td>\n",
       "    </tr>\n",
       "    <tr>\n",
       "      <th>1</th>\n",
       "      <td>20281.0</td>\n",
       "      <td>2023-11-02 10:26:44+00:00</td>\n",
       "      <td>7385</td>\n",
       "      <td>489.1</td>\n",
       "      <td>147.4</td>\n",
       "      <td>196.0</td>\n",
       "      <td>536.5</td>\n",
       "      <td>43</td>\n",
       "      <td>177</td>\n",
       "    </tr>\n",
       "    <tr>\n",
       "      <th>2</th>\n",
       "      <td>21828.0</td>\n",
       "      <td>2023-10-28 11:03:56+00:00</td>\n",
       "      <td>8172</td>\n",
       "      <td>562.4</td>\n",
       "      <td>151.9</td>\n",
       "      <td>194.0</td>\n",
       "      <td>533.1</td>\n",
       "      <td>43</td>\n",
       "      <td>177</td>\n",
       "    </tr>\n",
       "    <tr>\n",
       "      <th>3</th>\n",
       "      <td>24342.8</td>\n",
       "      <td>2023-10-21 11:45:01+00:00</td>\n",
       "      <td>6423</td>\n",
       "      <td>331.8</td>\n",
       "      <td>139.6</td>\n",
       "      <td>192.0</td>\n",
       "      <td>410.7</td>\n",
       "      <td>43</td>\n",
       "      <td>177</td>\n",
       "    </tr>\n",
       "    <tr>\n",
       "      <th>4</th>\n",
       "      <td>19236.5</td>\n",
       "      <td>2023-10-12 10:54:38+00:00</td>\n",
       "      <td>8046</td>\n",
       "      <td>501.2</td>\n",
       "      <td>146.8</td>\n",
       "      <td>189.0</td>\n",
       "      <td>548.4</td>\n",
       "      <td>43</td>\n",
       "      <td>177</td>\n",
       "    </tr>\n",
       "  </tbody>\n",
       "</table>\n",
       "</div>"
      ],
      "text/plain": [
       "   distance                start_date  moving_time  total_elevation_gain  \\\n",
       "0   21662.8 2023-11-04 11:11:10+00:00         6352                 481.5   \n",
       "1   20281.0 2023-11-02 10:26:44+00:00         7385                 489.1   \n",
       "2   21828.0 2023-10-28 11:03:56+00:00         8172                 562.4   \n",
       "3   24342.8 2023-10-21 11:45:01+00:00         6423                 331.8   \n",
       "4   19236.5 2023-10-12 10:54:38+00:00         8046                 501.2   \n",
       "\n",
       "   average_heartrate  max_heartrate  elev_high  Age  FCmax  \n",
       "0              152.8          189.0      599.5   43    177  \n",
       "1              147.4          196.0      536.5   43    177  \n",
       "2              151.9          194.0      533.1   43    177  \n",
       "3              139.6          192.0      410.7   43    177  \n",
       "4              146.8          189.0      548.4   43    177  "
      ]
     },
     "execution_count": 154,
     "metadata": {},
     "output_type": "execute_result"
    }
   ],
   "source": [
    "# convertendo o campo start_date para o tipo data\n",
    "df_analise['start_date'] = pd.to_datetime(df['start_date'])\n",
    "\n",
    "# funcao para calcular a idade no periodo da atividade\n",
    "def calculate_age(birthdate):\n",
    "    current_date = datetime(1980,11,18)\n",
    "    age = birthdate.year - current_date.year - ((current_date.month, current_date.day) < (birthdate.month, birthdate.day))\n",
    "    return age\n",
    "\n",
    "# criando a nova coluna com o calculo da idade no periodo da atividade\n",
    "df_analise['Age'] = df_analise['start_date'].apply(calculate_age)\n",
    "\n",
    "# função para calcular o Frequencia Cardiaca Maxima (FC max)\n",
    "def calc_fcmax(fcmax):\n",
    "    fc_max = 220 - fcmax\n",
    "    return fc_max\n",
    "\n",
    "# criando a nova coluna com o calculo do FC Max com base na coluna idade\n",
    "df_analise['FCmax'] = df_analise['Age'].apply(calc_fcmax)\n",
    "\n",
    "# visualizando o dataframe com a nova coluna\n",
    "df_analise.head()\n"
   ]
  },
  {
   "cell_type": "markdown",
   "metadata": {},
   "source": [
    "Para praticar atividade física de forma correta e obter o melhor aproveitamento, é necessário conhecer as zonas de treino e identificar em qual delas você se encontra.\n",
    "\n",
    "Zonas de treinamento são cinco divisões de escala que determinam a faixa de esforço, sendo a primeira a mais leve e a quinta a mais intensa. Em resumo, elas ajudam a definir quando o esforço é leve, moderado ou forte. \n",
    "\n",
    "As zonas são definidas a partir da relação linear entre frequência cardíaca e intensidade de treino, e são calculadas como uma porcentagem da sua frequência cardíaca máxima. É assim que as zonas de treino são estabelecidas:\n",
    "\n",
    "| Zona | Percentual |\n",
    "| --- | --- |\n",
    "| Zona 1 | < 70% |\n",
    "| Zona 2 | de 70%-75% |\n",
    "| Zona 3 | 75%-85% |\n",
    "| Zona 4 | de 85%-95% |\n",
    "| Zona 5 | > 95% |\n",
    "\n",
    "\n",
    "Fonte (https://clinicaads.com.br/o-que-sao-as-zonas-de-treino-e-como-elas-podem-lhe-ajudar/)\n",
    "\n",
    "Desta forma cria-se o atributo da zona de frequencia considerando o máximo batimento cardiaco divido com a frequencia cardica (criado na etapa anterior) e depois cria-se o atributo zona de treino que tratará a condição conform a tabela acima."
   ]
  },
  {
   "cell_type": "code",
   "execution_count": 155,
   "metadata": {},
   "outputs": [
    {
     "data": {
      "text/html": [
       "<div>\n",
       "<style scoped>\n",
       "    .dataframe tbody tr th:only-of-type {\n",
       "        vertical-align: middle;\n",
       "    }\n",
       "\n",
       "    .dataframe tbody tr th {\n",
       "        vertical-align: top;\n",
       "    }\n",
       "\n",
       "    .dataframe thead th {\n",
       "        text-align: right;\n",
       "    }\n",
       "</style>\n",
       "<table border=\"1\" class=\"dataframe\">\n",
       "  <thead>\n",
       "    <tr style=\"text-align: right;\">\n",
       "      <th></th>\n",
       "      <th>distance</th>\n",
       "      <th>moving_time</th>\n",
       "      <th>total_elevation_gain</th>\n",
       "      <th>average_heartrate</th>\n",
       "      <th>max_heartrate</th>\n",
       "      <th>elev_high</th>\n",
       "      <th>Age</th>\n",
       "      <th>FCmax</th>\n",
       "      <th>zona_freq</th>\n",
       "      <th>zona_treino</th>\n",
       "    </tr>\n",
       "  </thead>\n",
       "  <tbody>\n",
       "    <tr>\n",
       "      <th>count</th>\n",
       "      <td>698.000000</td>\n",
       "      <td>698.000000</td>\n",
       "      <td>698.000000</td>\n",
       "      <td>698.000000</td>\n",
       "      <td>698.000000</td>\n",
       "      <td>698.000000</td>\n",
       "      <td>698.000000</td>\n",
       "      <td>698.000000</td>\n",
       "      <td>698.000000</td>\n",
       "      <td>698.000000</td>\n",
       "    </tr>\n",
       "    <tr>\n",
       "      <th>mean</th>\n",
       "      <td>35981.371633</td>\n",
       "      <td>6829.449857</td>\n",
       "      <td>557.890401</td>\n",
       "      <td>152.007593</td>\n",
       "      <td>182.666189</td>\n",
       "      <td>459.484097</td>\n",
       "      <td>38.744986</td>\n",
       "      <td>181.255014</td>\n",
       "      <td>100.797746</td>\n",
       "      <td>4.942693</td>\n",
       "    </tr>\n",
       "    <tr>\n",
       "      <th>std</th>\n",
       "      <td>19156.290060</td>\n",
       "      <td>3327.196663</td>\n",
       "      <td>332.395782</td>\n",
       "      <td>5.891256</td>\n",
       "      <td>6.969829</td>\n",
       "      <td>197.240437</td>\n",
       "      <td>2.390982</td>\n",
       "      <td>2.390982</td>\n",
       "      <td>4.148250</td>\n",
       "      <td>0.244620</td>\n",
       "    </tr>\n",
       "    <tr>\n",
       "      <th>min</th>\n",
       "      <td>10012.200000</td>\n",
       "      <td>798.000000</td>\n",
       "      <td>0.000000</td>\n",
       "      <td>109.200000</td>\n",
       "      <td>141.000000</td>\n",
       "      <td>0.000000</td>\n",
       "      <td>34.000000</td>\n",
       "      <td>177.000000</td>\n",
       "      <td>78.333333</td>\n",
       "      <td>3.000000</td>\n",
       "    </tr>\n",
       "    <tr>\n",
       "      <th>25%</th>\n",
       "      <td>24651.575000</td>\n",
       "      <td>4672.250000</td>\n",
       "      <td>354.000000</td>\n",
       "      <td>151.600000</td>\n",
       "      <td>182.000000</td>\n",
       "      <td>404.650000</td>\n",
       "      <td>37.000000</td>\n",
       "      <td>179.000000</td>\n",
       "      <td>98.918919</td>\n",
       "      <td>5.000000</td>\n",
       "    </tr>\n",
       "    <tr>\n",
       "      <th>50%</th>\n",
       "      <td>31587.550000</td>\n",
       "      <td>5917.500000</td>\n",
       "      <td>511.000000</td>\n",
       "      <td>152.050000</td>\n",
       "      <td>183.000000</td>\n",
       "      <td>464.900000</td>\n",
       "      <td>39.000000</td>\n",
       "      <td>181.000000</td>\n",
       "      <td>100.000000</td>\n",
       "      <td>5.000000</td>\n",
       "    </tr>\n",
       "    <tr>\n",
       "      <th>75%</th>\n",
       "      <td>43994.825000</td>\n",
       "      <td>8473.250000</td>\n",
       "      <td>717.050000</td>\n",
       "      <td>152.775000</td>\n",
       "      <td>183.750000</td>\n",
       "      <td>546.350000</td>\n",
       "      <td>41.000000</td>\n",
       "      <td>183.000000</td>\n",
       "      <td>102.808989</td>\n",
       "      <td>5.000000</td>\n",
       "    </tr>\n",
       "    <tr>\n",
       "      <th>max</th>\n",
       "      <td>200526.000000</td>\n",
       "      <td>36664.000000</td>\n",
       "      <td>2764.000000</td>\n",
       "      <td>174.500000</td>\n",
       "      <td>232.000000</td>\n",
       "      <td>1615.600000</td>\n",
       "      <td>43.000000</td>\n",
       "      <td>186.000000</td>\n",
       "      <td>131.073446</td>\n",
       "      <td>5.000000</td>\n",
       "    </tr>\n",
       "  </tbody>\n",
       "</table>\n",
       "</div>"
      ],
      "text/plain": [
       "            distance   moving_time  total_elevation_gain  average_heartrate  \\\n",
       "count     698.000000    698.000000            698.000000         698.000000   \n",
       "mean    35981.371633   6829.449857            557.890401         152.007593   \n",
       "std     19156.290060   3327.196663            332.395782           5.891256   \n",
       "min     10012.200000    798.000000              0.000000         109.200000   \n",
       "25%     24651.575000   4672.250000            354.000000         151.600000   \n",
       "50%     31587.550000   5917.500000            511.000000         152.050000   \n",
       "75%     43994.825000   8473.250000            717.050000         152.775000   \n",
       "max    200526.000000  36664.000000           2764.000000         174.500000   \n",
       "\n",
       "       max_heartrate    elev_high         Age       FCmax   zona_freq  \\\n",
       "count     698.000000   698.000000  698.000000  698.000000  698.000000   \n",
       "mean      182.666189   459.484097   38.744986  181.255014  100.797746   \n",
       "std         6.969829   197.240437    2.390982    2.390982    4.148250   \n",
       "min       141.000000     0.000000   34.000000  177.000000   78.333333   \n",
       "25%       182.000000   404.650000   37.000000  179.000000   98.918919   \n",
       "50%       183.000000   464.900000   39.000000  181.000000  100.000000   \n",
       "75%       183.750000   546.350000   41.000000  183.000000  102.808989   \n",
       "max       232.000000  1615.600000   43.000000  186.000000  131.073446   \n",
       "\n",
       "       zona_treino  \n",
       "count   698.000000  \n",
       "mean      4.942693  \n",
       "std       0.244620  \n",
       "min       3.000000  \n",
       "25%       5.000000  \n",
       "50%       5.000000  \n",
       "75%       5.000000  \n",
       "max       5.000000  "
      ]
     },
     "execution_count": 155,
     "metadata": {},
     "output_type": "execute_result"
    }
   ],
   "source": [
    "# criando a coluna para faixa da zona de frequência cardiaca\n",
    "df_analise['zona_freq'] = ((df_analise['max_heartrate'] / df_analise['FCmax']) ) * 100\n",
    "\n",
    "# definindo a condição para a coluna zona_treino utilziando com base o valor da coluna zona_freq\n",
    "conditions = [\n",
    "    (df_analise['zona_freq'] < 70),\n",
    "    (df_analise['zona_freq'] >= 70) & (df_analise['zona_freq'] < 75),\n",
    "    (df_analise['zona_freq'] >= 75) & (df_analise['zona_freq'] < 85),\n",
    "    (df_analise['zona_freq'] >= 85) & (df_analise['zona_freq'] < 95),\n",
    "    (df_analise['zona_freq'] >= 95)\n",
    "]\n",
    "\n",
    "# definindo o valor de correspondencia para a condição\n",
    "labels = ['1', '2', '3', '4', '5']\n",
    "\n",
    "# criando a coluna zona_treino com base nas condições\n",
    "df_analise['zona_treino'] = np.select(conditions, labels, default='0').astype('int64')\n",
    "\n",
    "\n",
    "# Display the DataFrame with the new column\n",
    "df_analise.describe()"
   ]
  },
  {
   "cell_type": "markdown",
   "metadata": {},
   "source": [
    "### 1.2.4 Analisando\n",
    "\n",
    "Após a análise dos valores estatísticos descritos acima, iremos realizar a análise da relação dos atributos para encontrar algumas respostas."
   ]
  },
  {
   "cell_type": "markdown",
   "metadata": {},
   "source": [
    "#### 1.2.4.1 Distancia por média de batimentos\n",
    "\n",
    "Gerando vizualiação da relação entre as distancias percorridas e a média de batimentos cardíacos.\n"
   ]
  },
  {
   "cell_type": "code",
   "execution_count": 156,
   "metadata": {},
   "outputs": [
    {
     "data": {
      "text/plain": [
       "Text(0.5, 1.0, 'Distância x Media de Batimentos Cardíacos')"
      ]
     },
     "execution_count": 156,
     "metadata": {},
     "output_type": "execute_result"
    },
    {
     "data": {
      "image/png": "[encoded data removed]",
      "text/plain": [
       "<Figure size 432x288 with 1 Axes>"
      ]
     },
     "metadata": {},
     "output_type": "display_data"
    }
   ],
   "source": [
    "# criando dataframe para o gráfico de dispersão\n",
    "df_scatter_ride = df_analise[['distance', 'average_heartrate']]\n",
    "\n",
    "# convertendo a coluna distancia para o valor em kilometros\n",
    "df_scatter_ride['distance'] = df_scatter_ride['distance'] / 1000\n",
    "\n",
    "# criando grafico de dispersão\n",
    "df_scatter_ride.plot.scatter(x='distance',y='average_heartrate')\n",
    "\n",
    "# visualizando grafico\n",
    "plt.title('Distância x Media de Batimentos Cardíacos')\n"
   ]
  },
  {
   "cell_type": "markdown",
   "metadata": {},
   "source": [
    "Conforme o gráfico acima observa-se que uma maior concentração de valores de batimentos cardíacos entre 140 a 160 batimentos por minuto(bpm) e uma concentração nas distâncias entre 25 e 50 kilometros. Neste caso pode-se concluir que as maiores médias de batimentos estão dentro da distância entre 25 e 50 kilometros."
   ]
  },
  {
   "cell_type": "markdown",
   "metadata": {},
   "source": [
    "#### 1.2.4.2 Distancia por máxima de batimentos\n",
    "\n",
    "Gerando vizualiação da relação entre as distancias percorridas e a máxima de batimentos cardíacos e qual zona de treino se encontram."
   ]
  },
  {
   "cell_type": "code",
   "execution_count": 175,
   "metadata": {},
   "outputs": [
    {
     "data": {
      "image/png": "[encoded data removed]",
      "text/plain": [
       "<Figure size 432x288 with 2 Axes>"
      ]
     },
     "metadata": {},
     "output_type": "display_data"
    }
   ],
   "source": [
    "# Selecting relevant columns\n",
    "df_scatter_teste = df_analise[['distance', 'max_heartrate', 'zona_treino']]\n",
    "# convertendo a coluna distancia para o valor em kilometros\n",
    "df_scatter_teste['distance'] = df_scatter_teste['distance'] / 1000\n",
    "# Creating the scatter plot\n",
    "plt.scatter(x='distance', y='max_heartrate', c='zona_treino', cmap='viridis', data=df_scatter_teste)\n",
    "\n",
    "# Setting colorbar ticks to match unique values in 'zona_treino'\n",
    "plt.colorbar(ticks=df_scatter_teste['zona_treino'].unique())\n",
    "\n",
    "# Setting title and labels\n",
    "plt.title('Máximo Batimentos x Distancia')\n",
    "plt.xlabel('Distância Kms')\n",
    "plt.ylabel('Máximo Batimentos')\n",
    "\n",
    "# Showing the plot\n",
    "plt.show()"
   ]
  },
  {
   "cell_type": "markdown",
   "metadata": {},
   "source": [
    "No gráfico acima observa-se que a maior parte das distancias percorridas foi com o nível máximo de batimentos cardíacos entre 160 a 200 bpm e a zona de treino ficou acima da zona 4, mostrando a intesidade do treino que é considerado na faixa anaeróbica. "
   ]
  },
  {
   "cell_type": "markdown",
   "metadata": {},
   "source": [
    "#### 1.2.4.3 Elevação por máxima de batimentos e zona de treino\n",
    "\n",
    "Gerando vizualiação da relação entre a maxima elevação alcançada e a máxima de batimentos cardíacos e qual zona de treino se encontram."
   ]
  },
  {
   "cell_type": "code",
   "execution_count": 158,
   "metadata": {},
   "outputs": [
    {
     "data": {
      "text/plain": [
       "Text(0.5, 1.0, 'Elevação x Maximo Batimentos Cardíacos')"
      ]
     },
     "execution_count": 158,
     "metadata": {},
     "output_type": "execute_result"
    },
    {
     "data": {
      "image/png": "[encoded data removed]",
      "text/plain": [
       "<Figure size 432x288 with 1 Axes>"
      ]
     },
     "metadata": {},
     "output_type": "display_data"
    }
   ],
   "source": [
    "df_scatter_elev = df_analise[['elev_high', 'max_heartrate','zona_treino']]\n",
    "\n",
    "df_scatter_elev.plot.scatter(x='elev_high',y='max_heartrate',cmap='RdYlBu')\n",
    "plt.title('Elevação x Maximo Batimentos Cardíacos')"
   ]
  },
  {
   "cell_type": "markdown",
   "metadata": {},
   "source": [
    "Conforme o gráfico acima é possível observar que máxima de batimentos esta concentrada entre 160 e 200 bpm e o ganho de elevevação ficou entre 200 a 600 metros, mostrando que o aumento do batimentos cardíacos independem do ganho de elevação."
   ]
  },
  {
   "cell_type": "markdown",
   "metadata": {},
   "source": [
    "#### 1.2.4.5 Total de kilometros percorrido por ano\n",
    "\n",
    "Visualização do total de kilometros pecorrido por ano"
   ]
  },
  {
   "cell_type": "code",
   "execution_count": 159,
   "metadata": {},
   "outputs": [
    {
     "data": {
      "image/png": "[encoded data removed]",
      "text/plain": [
       "<Figure size 432x288 with 1 Axes>"
      ]
     },
     "metadata": {},
     "output_type": "display_data"
    }
   ],
   "source": [
    "# sumarizando a distancia por ano\n",
    "df_analise['year'] = pd.to_datetime(df_analise['start_date']).dt.year  # Extract the year\n",
    "result = df_analise.groupby('year')['distance'].sum().reset_index(name='totalKm')\n",
    "\n",
    "# grafico distancia ano\n",
    "\n",
    "# plotando o histograma\n",
    "plt.barh(result['year'], result['totalKm']/1000)\n",
    "\n",
    "# incluindo título do gráfico e legenda\n",
    "plt.title('Total de KM por Ano')\n",
    "plt.ylabel('Ano')\n",
    "plt.xlabel('Total KM');\n"
   ]
  },
  {
   "cell_type": "markdown",
   "metadata": {},
   "source": [
    "Observa-se no gráfico acima que o ano de 2016 foi o que mais teve mais distância percorrida e que 2023 foi o ano de menor atividade."
   ]
  },
  {
   "cell_type": "markdown",
   "metadata": {},
   "source": [
    "## 1.3 Pré-processamento\n",
    "Nesta etapa iremos preparar o modelo de Machine Learning criando um novo dataframe."
   ]
  },
  {
   "cell_type": "markdown",
   "metadata": {},
   "source": [
    "### 1.3.1 Normalizando\n",
    "Nesta etapa será feita a normalização dos dados de todos os atributos do intervalo original para o intervalo de 0 a 1, com o objetivo de alterar os valores para uma escala comum, sem distorcer as diferenças nos intervalos de valores."
   ]
  },
  {
   "cell_type": "code",
   "execution_count": 160,
   "metadata": {},
   "outputs": [],
   "source": [
    "# criando novo dataframe para preparar o modelo\n",
    "df_teste = df_analise.loc[:,['distance','start_date','moving_time','total_elevation_gain','average_heartrate','max_heartrate', 'elev_high', 'Age','FCmax','zona_freq','zona_treino','year']]\n",
    "\n",
    "# convertendo o campo data para numerico\n",
    "df_teste['start_date'] = pd.to_numeric(df_teste['start_date'])"
   ]
  },
  {
   "cell_type": "code",
   "execution_count": 161,
   "metadata": {},
   "outputs": [],
   "source": [
    "# separando o array em componentes de input e output\n",
    "X = df_teste.values[:,0:9]\n",
    "y = df_teste.values[:,9]"
   ]
  },
  {
   "cell_type": "code",
   "execution_count": 162,
   "metadata": {},
   "outputs": [
    {
     "name": "stdout",
     "output_type": "stream",
     "text": [
      "Dados Originais: \n",
      "\n",
      " [[2.16628000e+04 1.69909627e+18 6.35200000e+03 ... 1.06779661e+02\n",
      "  5.00000000e+00 2.02300000e+03]\n",
      " [2.02810000e+04 1.69892080e+18 7.38500000e+03 ... 1.10734463e+02\n",
      "  5.00000000e+00 2.02300000e+03]\n",
      " [2.18280000e+04 1.69849104e+18 8.17200000e+03 ... 1.09604520e+02\n",
      "  5.00000000e+00 2.02300000e+03]\n",
      " ...\n",
      " [7.92123000e+04 1.43427706e+18 1.35950000e+04 ... 9.89189189e+01\n",
      "  5.00000000e+00 2.01500000e+03]\n",
      " [4.76690000e+04 1.43367300e+18 7.90000000e+03 ... 9.89189189e+01\n",
      "  5.00000000e+00 2.01500000e+03]\n",
      " [2.81511000e+04 1.42520632e+18 1.07660000e+04 ... 9.89189189e+01\n",
      "  5.00000000e+00 2.01500000e+03]]\n",
      "\n",
      "Dados Normalizados: \n",
      "\n",
      " [[6.11535752e-02 1.00000000e+00 1.54854179e-01 ... 3.71069572e-01\n",
      "  1.00000000e+00 0.00000000e+00]\n",
      " [5.39005573e-02 9.99359356e-01 1.83655830e-01 ... 3.32074771e-01\n",
      "  1.00000000e+00 0.00000000e+00]\n",
      " [6.20207040e-02 9.97790229e-01 2.05598617e-01 ... 3.29970290e-01\n",
      "  1.00000000e+00 0.00000000e+00]\n",
      " ...\n",
      " [3.63228805e-01 3.31181709e-02 3.56800312e-01 ... 1.11413716e-02\n",
      "  1.11111111e-01 8.88888889e-01]\n",
      " [1.97659172e-01 3.09126719e-02 1.98014833e-01 ... 2.47586036e-04\n",
      "  1.11111111e-01 8.88888889e-01]\n",
      " [9.52104257e-02 0.00000000e+00 2.77923381e-01 ... 4.89477593e-01\n",
      "  1.11111111e-01 8.88888889e-01]]\n"
     ]
    }
   ],
   "source": [
    "# ordinal encoding para os atributos X\n",
    "# Normalizando os dados\n",
    "rescaledX = MinMaxScaler().fit_transform(X)\n",
    "\n",
    "# Exibindo os dados transformados\n",
    "print(\"Dados Originais: \\n\\n\", df_teste.values)\n",
    "print(\"\\nDados Normalizados: \\n\\n\", rescaledX)"
   ]
  },
  {
   "cell_type": "markdown",
   "metadata": {},
   "source": [
    "### 1.3.2 Padronizando\n",
    "Agora faz a padronização com a distribuição de todos os atributos dos valores observados para que eles tenham as propriedades de uma distribuição normal padrão (média 0 e desvio padrão 1)."
   ]
  },
  {
   "cell_type": "code",
   "execution_count": 163,
   "metadata": {},
   "outputs": [
    {
     "name": "stdout",
     "output_type": "stream",
     "text": [
      "Dados Originais: \n",
      "\n",
      " [[2.16628000e+04 1.69909627e+18 6.35200000e+03 ... 1.06779661e+02\n",
      "  5.00000000e+00 2.02300000e+03]\n",
      " [2.02810000e+04 1.69892080e+18 7.38500000e+03 ... 1.10734463e+02\n",
      "  5.00000000e+00 2.02300000e+03]\n",
      " [2.18280000e+04 1.69849104e+18 8.17200000e+03 ... 1.09604520e+02\n",
      "  5.00000000e+00 2.02300000e+03]\n",
      " ...\n",
      " [7.92123000e+04 1.43427706e+18 1.35950000e+04 ... 9.89189189e+01\n",
      "  5.00000000e+00 2.01500000e+03]\n",
      " [4.76690000e+04 1.43367300e+18 7.90000000e+03 ... 9.89189189e+01\n",
      "  5.00000000e+00 2.01500000e+03]\n",
      " [2.81511000e+04 1.42520632e+18 1.07660000e+04 ... 9.89189189e+01\n",
      "  5.00000000e+00 2.01500000e+03]]\n",
      "\n",
      "Dados Padronizados: \n",
      "\n",
      " [[-0.74799658  1.92686826 -0.14360204 ...  0.71038328  1.78088537\n",
      "  -1.78088537]\n",
      " [-0.82018128  1.92446426  0.16709218 ...  0.39074711  1.78088537\n",
      "  -1.78088537]\n",
      " [-0.7393666   1.91857617  0.40379726 ...  0.3734969   1.78088537\n",
      "  -1.78088537]\n",
      " ...\n",
      " [ 2.2583668  -1.70132277  2.03486671 ... -2.23990929 -1.56741898\n",
      "   1.56741898]\n",
      " [ 0.61055714 -1.70959883  0.32198813 ... -2.32920447 -1.56741898\n",
      "   1.56741898]\n",
      " [-0.40905033 -1.82559758  1.18399165 ...  1.68096104 -1.56741898\n",
      "   1.56741898]]\n"
     ]
    }
   ],
   "source": [
    "# Padronizando os dados\n",
    "rescaledX = StandardScaler().fit_transform(X)\n",
    "\n",
    "# Exibindo os dados transformados\n",
    "print(\"Dados Originais: \\n\\n\", df_teste.values)\n",
    "print(\"\\nDados Padronizados: \\n\\n\", rescaledX)"
   ]
  },
  {
   "cell_type": "markdown",
   "metadata": {},
   "source": [
    "# 2 Conclusão\n",
    "\n",
    "Terminado a análise dos dados com a realização dos devidos tratamentos, visualizando a relação dos atributos com informação sobre a distância, média e máxima de batimentos cardiácos e o ganho de elevação, é possível concluir que a há um padrão médio da zona de treino mostrando que é necessário uma correção na frequência cardiaca durante os exercícios, porém mostra-se necessário a inclusão de novos atributos para permitir uma melhor precisão das análises.\n",
    "\n",
    "No pré-processamento que prepara o modelo para Machine Learning foi necessário modificar o atributo start_date para númerico pois ocorreu um erro com o tipo do atributo definido anteriormente."
   ]
  }
 ],
 "metadata": {
  "kernelspec": {
   "display_name": "Python 3",
   "language": "python",
   "name": "python3"
  },
  "language_info": {
   "codemirror_mode": {
    "name": "ipython",
    "version": 3
   },
   "file_extension": ".py",
   "mimetype": "text/x-python",
   "name": "python",
   "nbconvert_exporter": "python",
   "pygments_lexer": "ipython3",
   "version": "3.9.6"
  }
 },
 "nbformat": 4,
 "nbformat_minor": 2
}

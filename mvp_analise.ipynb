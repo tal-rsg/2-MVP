{
 "cells": [
  {
   "cell_type": "markdown",
   "metadata": {},
   "source": [
    "# MVP-Analise Exploratória - PUC-Rio\n",
    "Tales Gonçalves\n"
   ]
  },
  {
   "cell_type": "markdown",
   "metadata": {},
   "source": [
    "# 1. Objetivo\n",
    "Esta análise visa compreender os dados armazenados no aplicativo Strava que contém informações sobre as minhas atividades de ciclismo, corrida, musculação, entre outras, que são coletadas durante o uso de aparelho celular ou smart watch.\n",
    "\n",
    "Espera-se encontrar a relação de distancias percorridas entre o tempo, a média de velocidade, o ganho ou perda de elevação com a média de frequencia de batimentos cardíacos para verificar em quais condições exigem mais batimentos.\n",
    "\n",
    "Para conhecimento de mais detalhes sobre o aplicativo Strava acesse www.strava.com meu perfil https://www.strava.com/athletes/11601498."
   ]
  },
  {
   "cell_type": "markdown",
   "metadata": {},
   "source": [
    "## 1.1 Análise\n",
    "Nesta etapa realizamos a leitura do arquivo json que esta no meu diretório do Github (https://raw.githubusercontent.com/tal-rsg/mvp-analise/main/strava_data.json). Este arquivo foi carregado através de outra etapa que não será abordado nesta análise.\n",
    "\n",
    "As bibliotecas utilizadas para realizar uma análise explorartória dos dados utilizando a estatístia descritiva para compreender as informações serão carregadas no início do notebook. Cada trecho do código contém comentários para explicar o que cada função executa.\n",
    " "
   ]
  },
  {
   "cell_type": "code",
   "execution_count": 84,
   "metadata": {},
   "outputs": [],
   "source": [
    "# Configuração para não exibir os warnings\n",
    "import warnings\n",
    "warnings.filterwarnings(\"ignore\")\n",
    "\n",
    "#importando as bibliotecas necessárias\n",
    "import pandas as pd\n",
    "import numpy as np\n",
    "import matplotlib.pyplot as plt\n",
    "import missingno as ms # para tratamento de missings\n",
    "import seaborn as sns\n",
    "from datetime import datetime, timedelta\n"
   ]
  },
  {
   "cell_type": "markdown",
   "metadata": {},
   "source": [
    "Com a biblioteca Pandas é feita a leitura dos dados atravez da função read_json() diretamente do diretório onde esta armazenado o arquivo que será analisado.\n",
    "Após a leitura do arquivo verificamos se o dataframe está de acordo com o Pandas usando a função type()."
   ]
  },
  {
   "cell_type": "code",
   "execution_count": 85,
   "metadata": {},
   "outputs": [
    {
     "data": {
      "text/plain": [
       "pandas.core.frame.DataFrame"
      ]
     },
     "execution_count": 85,
     "metadata": {},
     "output_type": "execute_result"
    }
   ],
   "source": [
    "# lendo arquivo json e visualizando as 10 primeiras linhas\n",
    "df = pd.read_json('https://raw.githubusercontent.com/tal-rsg/mvp-analise/main/strava_data.json')\n",
    "\n",
    "# verificando se é um dataframe\n",
    "type(df)"
   ]
  },
  {
   "cell_type": "markdown",
   "metadata": {},
   "source": [
    "Com o dataframe validado é verificado o tamanho dele."
   ]
  },
  {
   "cell_type": "code",
   "execution_count": 86,
   "metadata": {},
   "outputs": [
    {
     "data": {
      "text/plain": [
       "(893, 54)"
      ]
     },
     "execution_count": 86,
     "metadata": {},
     "output_type": "execute_result"
    }
   ],
   "source": [
    "# verificando a quantidade de instâncias (linhas) e atributos (colunas) do dataframe\n",
    "df.shape"
   ]
  },
  {
   "cell_type": "markdown",
   "metadata": {},
   "source": [
    "Listando as primerias linhas para uma pré-visualização das informações."
   ]
  },
  {
   "cell_type": "code",
   "execution_count": 87,
   "metadata": {},
   "outputs": [
    {
     "data": {
      "text/html": [
       "<div>\n",
       "<style scoped>\n",
       "    .dataframe tbody tr th:only-of-type {\n",
       "        vertical-align: middle;\n",
       "    }\n",
       "\n",
       "    .dataframe tbody tr th {\n",
       "        vertical-align: top;\n",
       "    }\n",
       "\n",
       "    .dataframe thead th {\n",
       "        text-align: right;\n",
       "    }\n",
       "</style>\n",
       "<table border=\"1\" class=\"dataframe\">\n",
       "  <thead>\n",
       "    <tr style=\"text-align: right;\">\n",
       "      <th></th>\n",
       "      <th>resource_state</th>\n",
       "      <th>athlete</th>\n",
       "      <th>name</th>\n",
       "      <th>distance</th>\n",
       "      <th>moving_time</th>\n",
       "      <th>elapsed_time</th>\n",
       "      <th>total_elevation_gain</th>\n",
       "      <th>type</th>\n",
       "      <th>sport_type</th>\n",
       "      <th>workout_type</th>\n",
       "      <th>...</th>\n",
       "      <th>elev_low</th>\n",
       "      <th>upload_id</th>\n",
       "      <th>upload_id_str</th>\n",
       "      <th>external_id</th>\n",
       "      <th>from_accepted_tag</th>\n",
       "      <th>pr_count</th>\n",
       "      <th>total_photo_count</th>\n",
       "      <th>has_kudoed</th>\n",
       "      <th>average_temp</th>\n",
       "      <th>average_cadence</th>\n",
       "    </tr>\n",
       "  </thead>\n",
       "  <tbody>\n",
       "    <tr>\n",
       "      <th>0</th>\n",
       "      <td>2</td>\n",
       "      <td>{'id': 11601498, 'resource_state': 1}</td>\n",
       "      <td>Morning Ride</td>\n",
       "      <td>21662.8</td>\n",
       "      <td>6352</td>\n",
       "      <td>16608</td>\n",
       "      <td>481.5</td>\n",
       "      <td>Ride</td>\n",
       "      <td>Ride</td>\n",
       "      <td>NaN</td>\n",
       "      <td>...</td>\n",
       "      <td>275.5</td>\n",
       "      <td>10882562098</td>\n",
       "      <td>10882562098</td>\n",
       "      <td>garmin_ping_303102490716</td>\n",
       "      <td>False</td>\n",
       "      <td>1</td>\n",
       "      <td>0</td>\n",
       "      <td>False</td>\n",
       "      <td>NaN</td>\n",
       "      <td>NaN</td>\n",
       "    </tr>\n",
       "    <tr>\n",
       "      <th>1</th>\n",
       "      <td>2</td>\n",
       "      <td>{'id': 11601498, 'resource_state': 1}</td>\n",
       "      <td>Morning Ride</td>\n",
       "      <td>20281.0</td>\n",
       "      <td>7385</td>\n",
       "      <td>15289</td>\n",
       "      <td>489.1</td>\n",
       "      <td>Ride</td>\n",
       "      <td>Ride</td>\n",
       "      <td>NaN</td>\n",
       "      <td>...</td>\n",
       "      <td>275.5</td>\n",
       "      <td>10869742534</td>\n",
       "      <td>10869742534</td>\n",
       "      <td>garmin_ping_302746503097</td>\n",
       "      <td>False</td>\n",
       "      <td>1</td>\n",
       "      <td>0</td>\n",
       "      <td>False</td>\n",
       "      <td>NaN</td>\n",
       "      <td>NaN</td>\n",
       "    </tr>\n",
       "    <tr>\n",
       "      <th>2</th>\n",
       "      <td>2</td>\n",
       "      <td>{'id': 11601498, 'resource_state': 1}</td>\n",
       "      <td>Morning Ride</td>\n",
       "      <td>21828.0</td>\n",
       "      <td>8172</td>\n",
       "      <td>16371</td>\n",
       "      <td>562.4</td>\n",
       "      <td>Ride</td>\n",
       "      <td>Ride</td>\n",
       "      <td>NaN</td>\n",
       "      <td>...</td>\n",
       "      <td>274.8</td>\n",
       "      <td>10840112548</td>\n",
       "      <td>10840112548</td>\n",
       "      <td>garmin_ping_301874679075</td>\n",
       "      <td>False</td>\n",
       "      <td>0</td>\n",
       "      <td>0</td>\n",
       "      <td>False</td>\n",
       "      <td>NaN</td>\n",
       "      <td>NaN</td>\n",
       "    </tr>\n",
       "    <tr>\n",
       "      <th>3</th>\n",
       "      <td>2</td>\n",
       "      <td>{'id': 11601498, 'resource_state': 1}</td>\n",
       "      <td>Morning Ride</td>\n",
       "      <td>24342.8</td>\n",
       "      <td>6423</td>\n",
       "      <td>15739</td>\n",
       "      <td>331.8</td>\n",
       "      <td>Ride</td>\n",
       "      <td>Ride</td>\n",
       "      <td>NaN</td>\n",
       "      <td>...</td>\n",
       "      <td>271.6</td>\n",
       "      <td>10808240635</td>\n",
       "      <td>10808240635</td>\n",
       "      <td>garmin_ping_300982622245</td>\n",
       "      <td>False</td>\n",
       "      <td>0</td>\n",
       "      <td>0</td>\n",
       "      <td>False</td>\n",
       "      <td>NaN</td>\n",
       "      <td>NaN</td>\n",
       "    </tr>\n",
       "    <tr>\n",
       "      <th>4</th>\n",
       "      <td>2</td>\n",
       "      <td>{'id': 11601498, 'resource_state': 1}</td>\n",
       "      <td>Morning Ride</td>\n",
       "      <td>19236.5</td>\n",
       "      <td>8046</td>\n",
       "      <td>15944</td>\n",
       "      <td>501.2</td>\n",
       "      <td>Ride</td>\n",
       "      <td>Ride</td>\n",
       "      <td>NaN</td>\n",
       "      <td>...</td>\n",
       "      <td>275.2</td>\n",
       "      <td>10742166684</td>\n",
       "      <td>10742166684</td>\n",
       "      <td>garmin_ping_299202202209</td>\n",
       "      <td>False</td>\n",
       "      <td>2</td>\n",
       "      <td>0</td>\n",
       "      <td>False</td>\n",
       "      <td>NaN</td>\n",
       "      <td>NaN</td>\n",
       "    </tr>\n",
       "  </tbody>\n",
       "</table>\n",
       "<p>5 rows × 54 columns</p>\n",
       "</div>"
      ],
      "text/plain": [
       "   resource_state                                athlete          name  \\\n",
       "0               2  {'id': 11601498, 'resource_state': 1}  Morning Ride   \n",
       "1               2  {'id': 11601498, 'resource_state': 1}  Morning Ride   \n",
       "2               2  {'id': 11601498, 'resource_state': 1}  Morning Ride   \n",
       "3               2  {'id': 11601498, 'resource_state': 1}  Morning Ride   \n",
       "4               2  {'id': 11601498, 'resource_state': 1}  Morning Ride   \n",
       "\n",
       "   distance  moving_time  elapsed_time  total_elevation_gain  type sport_type  \\\n",
       "0   21662.8         6352         16608                 481.5  Ride       Ride   \n",
       "1   20281.0         7385         15289                 489.1  Ride       Ride   \n",
       "2   21828.0         8172         16371                 562.4  Ride       Ride   \n",
       "3   24342.8         6423         15739                 331.8  Ride       Ride   \n",
       "4   19236.5         8046         15944                 501.2  Ride       Ride   \n",
       "\n",
       "   workout_type  ...  elev_low    upload_id upload_id_str  \\\n",
       "0           NaN  ...     275.5  10882562098   10882562098   \n",
       "1           NaN  ...     275.5  10869742534   10869742534   \n",
       "2           NaN  ...     274.8  10840112548   10840112548   \n",
       "3           NaN  ...     271.6  10808240635   10808240635   \n",
       "4           NaN  ...     275.2  10742166684   10742166684   \n",
       "\n",
       "                external_id  from_accepted_tag pr_count total_photo_count  \\\n",
       "0  garmin_ping_303102490716              False        1                 0   \n",
       "1  garmin_ping_302746503097              False        1                 0   \n",
       "2  garmin_ping_301874679075              False        0                 0   \n",
       "3  garmin_ping_300982622245              False        0                 0   \n",
       "4  garmin_ping_299202202209              False        2                 0   \n",
       "\n",
       "  has_kudoed  average_temp  average_cadence  \n",
       "0      False           NaN              NaN  \n",
       "1      False           NaN              NaN  \n",
       "2      False           NaN              NaN  \n",
       "3      False           NaN              NaN  \n",
       "4      False           NaN              NaN  \n",
       "\n",
       "[5 rows x 54 columns]"
      ]
     },
     "execution_count": 87,
     "metadata": {},
     "output_type": "execute_result"
    }
   ],
   "source": [
    "df.head()"
   ]
  },
  {
   "cell_type": "markdown",
   "metadata": {},
   "source": [
    "Por conter muitos atributos (colunas), será listado somente o nome destes."
   ]
  },
  {
   "cell_type": "code",
   "execution_count": 88,
   "metadata": {},
   "outputs": [
    {
     "data": {
      "text/plain": [
       "Index(['resource_state', 'athlete', 'name', 'distance', 'moving_time',\n",
       "       'elapsed_time', 'total_elevation_gain', 'type', 'sport_type',\n",
       "       'workout_type', 'id', 'start_date', 'start_date_local', 'timezone',\n",
       "       'utc_offset', 'location_city', 'location_state', 'location_country',\n",
       "       'achievement_count', 'kudos_count', 'comment_count', 'athlete_count',\n",
       "       'photo_count', 'map', 'trainer', 'commute', 'manual', 'private',\n",
       "       'visibility', 'flagged', 'gear_id', 'start_latlng', 'end_latlng',\n",
       "       'average_speed', 'max_speed', 'average_watts', 'kilojoules',\n",
       "       'device_watts', 'has_heartrate', 'average_heartrate', 'max_heartrate',\n",
       "       'heartrate_opt_out', 'display_hide_heartrate_option', 'elev_high',\n",
       "       'elev_low', 'upload_id', 'upload_id_str', 'external_id',\n",
       "       'from_accepted_tag', 'pr_count', 'total_photo_count', 'has_kudoed',\n",
       "       'average_temp', 'average_cadence'],\n",
       "      dtype='object')"
      ]
     },
     "execution_count": 88,
     "metadata": {},
     "output_type": "execute_result"
    }
   ],
   "source": [
    "# listando o nome das colunas\n",
    "df.columns"
   ]
  },
  {
   "cell_type": "code",
   "execution_count": 89,
   "metadata": {},
   "outputs": [
    {
     "data": {
      "text/plain": [
       "resource_state                   893\n",
       "athlete                          893\n",
       "name                             893\n",
       "distance                         893\n",
       "moving_time                      893\n",
       "elapsed_time                     893\n",
       "total_elevation_gain             893\n",
       "type                             893\n",
       "sport_type                       893\n",
       "workout_type                     319\n",
       "id                               893\n",
       "start_date                       893\n",
       "start_date_local                 893\n",
       "timezone                         893\n",
       "utc_offset                       893\n",
       "location_city                     44\n",
       "location_state                    44\n",
       "location_country                 893\n",
       "achievement_count                893\n",
       "kudos_count                      893\n",
       "comment_count                    893\n",
       "athlete_count                    893\n",
       "photo_count                      893\n",
       "map                              893\n",
       "trainer                          893\n",
       "commute                          893\n",
       "manual                           893\n",
       "private                          893\n",
       "visibility                       893\n",
       "flagged                          893\n",
       "gear_id                          704\n",
       "start_latlng                     893\n",
       "end_latlng                       893\n",
       "average_speed                    893\n",
       "max_speed                        893\n",
       "average_watts                    839\n",
       "kilojoules                       839\n",
       "device_watts                     839\n",
       "has_heartrate                    893\n",
       "average_heartrate                419\n",
       "max_heartrate                    419\n",
       "heartrate_opt_out                893\n",
       "display_hide_heartrate_option    893\n",
       "elev_high                        849\n",
       "elev_low                         849\n",
       "upload_id                        893\n",
       "upload_id_str                    893\n",
       "external_id                      892\n",
       "from_accepted_tag                893\n",
       "pr_count                         893\n",
       "total_photo_count                893\n",
       "has_kudoed                       893\n",
       "average_temp                     579\n",
       "average_cadence                   48\n",
       "dtype: int64"
      ]
     },
     "execution_count": 89,
     "metadata": {},
     "output_type": "execute_result"
    }
   ],
   "source": [
    "# exibindo a quantidade de linhas por colunas\n",
    "df.count()"
   ]
  },
  {
   "cell_type": "markdown",
   "metadata": {},
   "source": [
    "Analisando os atributos e se possuíem valores nulos."
   ]
  },
  {
   "cell_type": "code",
   "execution_count": 90,
   "metadata": {},
   "outputs": [
    {
     "data": {
      "text/plain": [
       "resource_state                     0\n",
       "athlete                            0\n",
       "name                               0\n",
       "distance                           0\n",
       "moving_time                        0\n",
       "elapsed_time                       0\n",
       "total_elevation_gain               0\n",
       "type                               0\n",
       "sport_type                         0\n",
       "workout_type                     574\n",
       "id                                 0\n",
       "start_date                         0\n",
       "start_date_local                   0\n",
       "timezone                           0\n",
       "utc_offset                         0\n",
       "location_city                    849\n",
       "location_state                   849\n",
       "location_country                   0\n",
       "achievement_count                  0\n",
       "kudos_count                        0\n",
       "comment_count                      0\n",
       "athlete_count                      0\n",
       "photo_count                        0\n",
       "map                                0\n",
       "trainer                            0\n",
       "commute                            0\n",
       "manual                             0\n",
       "private                            0\n",
       "visibility                         0\n",
       "flagged                            0\n",
       "gear_id                          189\n",
       "start_latlng                       0\n",
       "end_latlng                         0\n",
       "average_speed                      0\n",
       "max_speed                          0\n",
       "average_watts                     54\n",
       "kilojoules                        54\n",
       "device_watts                      54\n",
       "has_heartrate                      0\n",
       "average_heartrate                474\n",
       "max_heartrate                    474\n",
       "heartrate_opt_out                  0\n",
       "display_hide_heartrate_option      0\n",
       "elev_high                         44\n",
       "elev_low                          44\n",
       "upload_id                          0\n",
       "upload_id_str                      0\n",
       "external_id                        1\n",
       "from_accepted_tag                  0\n",
       "pr_count                           0\n",
       "total_photo_count                  0\n",
       "has_kudoed                         0\n",
       "average_temp                     314\n",
       "average_cadence                  845\n",
       "dtype: int64"
      ]
     },
     "execution_count": 90,
     "metadata": {},
     "output_type": "execute_result"
    }
   ],
   "source": [
    "# verificando se há atributos com valores vazios\n",
    "df.isnull().sum()"
   ]
  },
  {
   "cell_type": "markdown",
   "metadata": {},
   "source": [
    "Devido a quantidade de atributos, será criado um novo dataframe com a seleção somente dos necessários para esta análise.\n"
   ]
  },
  {
   "cell_type": "code",
   "execution_count": 91,
   "metadata": {},
   "outputs": [
    {
     "data": {
      "text/plain": [
       "pandas.core.frame.DataFrame"
      ]
     },
     "execution_count": 91,
     "metadata": {},
     "output_type": "execute_result"
    }
   ],
   "source": [
    "# criando um novo dataframe com a seleção de alguns atributos\n",
    "df_strava = df.loc[:,['name','distance','moving_time','total_elevation_gain','type','sport_type','id','start_date','average_speed','max_speed','average_heartrate','max_heartrate', 'elev_high', 'elev_low','average_temp']]\n",
    "\n",
    "\n",
    "# validando o dataframe novamente\n",
    "type(df_strava)\n"
   ]
  },
  {
   "cell_type": "markdown",
   "metadata": {},
   "source": [
    "Validado a construção do novo datraframe com a seleção de alguns atribuitos, continuamos a análise listando as primeiras linhas."
   ]
  },
  {
   "cell_type": "code",
   "execution_count": 92,
   "metadata": {},
   "outputs": [
    {
     "data": {
      "text/html": [
       "<div>\n",
       "<style scoped>\n",
       "    .dataframe tbody tr th:only-of-type {\n",
       "        vertical-align: middle;\n",
       "    }\n",
       "\n",
       "    .dataframe tbody tr th {\n",
       "        vertical-align: top;\n",
       "    }\n",
       "\n",
       "    .dataframe thead th {\n",
       "        text-align: right;\n",
       "    }\n",
       "</style>\n",
       "<table border=\"1\" class=\"dataframe\">\n",
       "  <thead>\n",
       "    <tr style=\"text-align: right;\">\n",
       "      <th></th>\n",
       "      <th>name</th>\n",
       "      <th>distance</th>\n",
       "      <th>moving_time</th>\n",
       "      <th>total_elevation_gain</th>\n",
       "      <th>type</th>\n",
       "      <th>sport_type</th>\n",
       "      <th>id</th>\n",
       "      <th>start_date</th>\n",
       "      <th>average_speed</th>\n",
       "      <th>max_speed</th>\n",
       "      <th>average_heartrate</th>\n",
       "      <th>max_heartrate</th>\n",
       "      <th>elev_high</th>\n",
       "      <th>elev_low</th>\n",
       "      <th>average_temp</th>\n",
       "    </tr>\n",
       "  </thead>\n",
       "  <tbody>\n",
       "    <tr>\n",
       "      <th>0</th>\n",
       "      <td>Morning Ride</td>\n",
       "      <td>21662.8</td>\n",
       "      <td>6352</td>\n",
       "      <td>481.5</td>\n",
       "      <td>Ride</td>\n",
       "      <td>Ride</td>\n",
       "      <td>10160257723</td>\n",
       "      <td>2023-11-04T11:11:10Z</td>\n",
       "      <td>3.410</td>\n",
       "      <td>13.032</td>\n",
       "      <td>152.8</td>\n",
       "      <td>189.0</td>\n",
       "      <td>599.5</td>\n",
       "      <td>275.5</td>\n",
       "      <td>NaN</td>\n",
       "    </tr>\n",
       "    <tr>\n",
       "      <th>1</th>\n",
       "      <td>Morning Ride</td>\n",
       "      <td>20281.0</td>\n",
       "      <td>7385</td>\n",
       "      <td>489.1</td>\n",
       "      <td>Ride</td>\n",
       "      <td>Ride</td>\n",
       "      <td>10148032615</td>\n",
       "      <td>2023-11-02T10:26:44Z</td>\n",
       "      <td>2.746</td>\n",
       "      <td>11.712</td>\n",
       "      <td>147.4</td>\n",
       "      <td>196.0</td>\n",
       "      <td>536.5</td>\n",
       "      <td>275.5</td>\n",
       "      <td>NaN</td>\n",
       "    </tr>\n",
       "    <tr>\n",
       "      <th>2</th>\n",
       "      <td>Morning Ride</td>\n",
       "      <td>21828.0</td>\n",
       "      <td>8172</td>\n",
       "      <td>562.4</td>\n",
       "      <td>Ride</td>\n",
       "      <td>Ride</td>\n",
       "      <td>10119802777</td>\n",
       "      <td>2023-10-28T11:03:56Z</td>\n",
       "      <td>2.671</td>\n",
       "      <td>11.045</td>\n",
       "      <td>151.9</td>\n",
       "      <td>194.0</td>\n",
       "      <td>533.1</td>\n",
       "      <td>274.8</td>\n",
       "      <td>NaN</td>\n",
       "    </tr>\n",
       "    <tr>\n",
       "      <th>3</th>\n",
       "      <td>Morning Ride</td>\n",
       "      <td>24342.8</td>\n",
       "      <td>6423</td>\n",
       "      <td>331.8</td>\n",
       "      <td>Ride</td>\n",
       "      <td>Ride</td>\n",
       "      <td>10089183560</td>\n",
       "      <td>2023-10-21T11:45:01Z</td>\n",
       "      <td>3.790</td>\n",
       "      <td>10.856</td>\n",
       "      <td>139.6</td>\n",
       "      <td>192.0</td>\n",
       "      <td>410.7</td>\n",
       "      <td>271.6</td>\n",
       "      <td>NaN</td>\n",
       "    </tr>\n",
       "    <tr>\n",
       "      <th>4</th>\n",
       "      <td>Morning Ride</td>\n",
       "      <td>19236.5</td>\n",
       "      <td>8046</td>\n",
       "      <td>501.2</td>\n",
       "      <td>Ride</td>\n",
       "      <td>Ride</td>\n",
       "      <td>10025746502</td>\n",
       "      <td>2023-10-12T10:54:38Z</td>\n",
       "      <td>2.391</td>\n",
       "      <td>10.828</td>\n",
       "      <td>146.8</td>\n",
       "      <td>189.0</td>\n",
       "      <td>548.4</td>\n",
       "      <td>275.2</td>\n",
       "      <td>NaN</td>\n",
       "    </tr>\n",
       "  </tbody>\n",
       "</table>\n",
       "</div>"
      ],
      "text/plain": [
       "           name  distance  moving_time  total_elevation_gain  type sport_type  \\\n",
       "0  Morning Ride   21662.8         6352                 481.5  Ride       Ride   \n",
       "1  Morning Ride   20281.0         7385                 489.1  Ride       Ride   \n",
       "2  Morning Ride   21828.0         8172                 562.4  Ride       Ride   \n",
       "3  Morning Ride   24342.8         6423                 331.8  Ride       Ride   \n",
       "4  Morning Ride   19236.5         8046                 501.2  Ride       Ride   \n",
       "\n",
       "            id            start_date  average_speed  max_speed  \\\n",
       "0  10160257723  2023-11-04T11:11:10Z          3.410     13.032   \n",
       "1  10148032615  2023-11-02T10:26:44Z          2.746     11.712   \n",
       "2  10119802777  2023-10-28T11:03:56Z          2.671     11.045   \n",
       "3  10089183560  2023-10-21T11:45:01Z          3.790     10.856   \n",
       "4  10025746502  2023-10-12T10:54:38Z          2.391     10.828   \n",
       "\n",
       "   average_heartrate  max_heartrate  elev_high  elev_low  average_temp  \n",
       "0              152.8          189.0      599.5     275.5           NaN  \n",
       "1              147.4          196.0      536.5     275.5           NaN  \n",
       "2              151.9          194.0      533.1     274.8           NaN  \n",
       "3              139.6          192.0      410.7     271.6           NaN  \n",
       "4              146.8          189.0      548.4     275.2           NaN  "
      ]
     },
     "execution_count": 92,
     "metadata": {},
     "output_type": "execute_result"
    }
   ],
   "source": [
    "# listando as primeiras linhas\n",
    "df_strava.head()"
   ]
  },
  {
   "cell_type": "markdown",
   "metadata": {},
   "source": [
    "Agora vamos analisar os tipos de atribuitos no novo dataframe"
   ]
  },
  {
   "cell_type": "code",
   "execution_count": 93,
   "metadata": {},
   "outputs": [
    {
     "data": {
      "text/plain": [
       "name                     object\n",
       "distance                float64\n",
       "moving_time               int64\n",
       "total_elevation_gain    float64\n",
       "type                     object\n",
       "sport_type               object\n",
       "id                        int64\n",
       "start_date               object\n",
       "average_speed           float64\n",
       "max_speed               float64\n",
       "average_heartrate       float64\n",
       "max_heartrate           float64\n",
       "elev_high               float64\n",
       "elev_low                float64\n",
       "average_temp            float64\n",
       "dtype: object"
      ]
     },
     "execution_count": 93,
     "metadata": {},
     "output_type": "execute_result"
    }
   ],
   "source": [
    "# listando os tipos  dos atributo\n",
    "df_strava.dtypes"
   ]
  },
  {
   "cell_type": "markdown",
   "metadata": {},
   "source": [
    "Observa-se que os atributos possuiem tipos diferentes e alguns com características de classificadores como a coluna \"sport_type\" que classifica o tipo de esporte praticado.\n",
    "Listamos  apenas os atributos contidos na coluna sport_type para checagem."
   ]
  },
  {
   "cell_type": "code",
   "execution_count": 94,
   "metadata": {},
   "outputs": [
    {
     "data": {
      "text/plain": [
       "array(['Ride', 'Workout', 'Walk', 'WeightTraining'], dtype=object)"
      ]
     },
     "execution_count": 94,
     "metadata": {},
     "output_type": "execute_result"
    }
   ],
   "source": [
    "# listando os valores únicos no atributo\n",
    "df_strava['sport_type'].unique()"
   ]
  },
  {
   "cell_type": "markdown",
   "metadata": {},
   "source": [
    "Checando a quantidade de registros por tipo de esporte registrado na coluna sport_type."
   ]
  },
  {
   "cell_type": "code",
   "execution_count": 95,
   "metadata": {},
   "outputs": [
    {
     "name": "stdout",
     "output_type": "stream",
     "text": [
      "       sport_type  total_Id\n",
      "0            Ride       842\n",
      "1            Walk         4\n",
      "2  WeightTraining        39\n",
      "3         Workout         8\n"
     ]
    }
   ],
   "source": [
    "# agrupando a coluna e realizando a contagem de registros\n",
    "totlspt = df_strava.groupby('sport_type')['id'].count().reset_index(name='total_Id')\n",
    "\n",
    "# imprimindo o resultado\n",
    "print(totlspt)"
   ]
  },
  {
   "cell_type": "markdown",
   "metadata": {},
   "source": [
    "Com o objetivo de centralizar a análise nas atividades de ciclismo, filtramos o dataframe pelo atributo sport_type igual a \"Ride\".\n"
   ]
  },
  {
   "cell_type": "code",
   "execution_count": 96,
   "metadata": {},
   "outputs": [
    {
     "data": {
      "text/html": [
       "<div>\n",
       "<style scoped>\n",
       "    .dataframe tbody tr th:only-of-type {\n",
       "        vertical-align: middle;\n",
       "    }\n",
       "\n",
       "    .dataframe tbody tr th {\n",
       "        vertical-align: top;\n",
       "    }\n",
       "\n",
       "    .dataframe thead th {\n",
       "        text-align: right;\n",
       "    }\n",
       "</style>\n",
       "<table border=\"1\" class=\"dataframe\">\n",
       "  <thead>\n",
       "    <tr style=\"text-align: right;\">\n",
       "      <th></th>\n",
       "      <th>name</th>\n",
       "      <th>distance</th>\n",
       "      <th>moving_time</th>\n",
       "      <th>total_elevation_gain</th>\n",
       "      <th>type</th>\n",
       "      <th>sport_type</th>\n",
       "      <th>id</th>\n",
       "      <th>start_date</th>\n",
       "      <th>average_speed</th>\n",
       "      <th>max_speed</th>\n",
       "      <th>average_heartrate</th>\n",
       "      <th>max_heartrate</th>\n",
       "      <th>elev_high</th>\n",
       "      <th>elev_low</th>\n",
       "      <th>average_temp</th>\n",
       "    </tr>\n",
       "  </thead>\n",
       "  <tbody>\n",
       "    <tr>\n",
       "      <th>0</th>\n",
       "      <td>Morning Ride</td>\n",
       "      <td>21662.8</td>\n",
       "      <td>6352</td>\n",
       "      <td>481.5</td>\n",
       "      <td>Ride</td>\n",
       "      <td>Ride</td>\n",
       "      <td>10160257723</td>\n",
       "      <td>2023-11-04T11:11:10Z</td>\n",
       "      <td>3.410</td>\n",
       "      <td>13.032</td>\n",
       "      <td>152.8</td>\n",
       "      <td>189.0</td>\n",
       "      <td>599.5</td>\n",
       "      <td>275.5</td>\n",
       "      <td>NaN</td>\n",
       "    </tr>\n",
       "    <tr>\n",
       "      <th>1</th>\n",
       "      <td>Morning Ride</td>\n",
       "      <td>20281.0</td>\n",
       "      <td>7385</td>\n",
       "      <td>489.1</td>\n",
       "      <td>Ride</td>\n",
       "      <td>Ride</td>\n",
       "      <td>10148032615</td>\n",
       "      <td>2023-11-02T10:26:44Z</td>\n",
       "      <td>2.746</td>\n",
       "      <td>11.712</td>\n",
       "      <td>147.4</td>\n",
       "      <td>196.0</td>\n",
       "      <td>536.5</td>\n",
       "      <td>275.5</td>\n",
       "      <td>NaN</td>\n",
       "    </tr>\n",
       "    <tr>\n",
       "      <th>2</th>\n",
       "      <td>Morning Ride</td>\n",
       "      <td>21828.0</td>\n",
       "      <td>8172</td>\n",
       "      <td>562.4</td>\n",
       "      <td>Ride</td>\n",
       "      <td>Ride</td>\n",
       "      <td>10119802777</td>\n",
       "      <td>2023-10-28T11:03:56Z</td>\n",
       "      <td>2.671</td>\n",
       "      <td>11.045</td>\n",
       "      <td>151.9</td>\n",
       "      <td>194.0</td>\n",
       "      <td>533.1</td>\n",
       "      <td>274.8</td>\n",
       "      <td>NaN</td>\n",
       "    </tr>\n",
       "    <tr>\n",
       "      <th>3</th>\n",
       "      <td>Morning Ride</td>\n",
       "      <td>24342.8</td>\n",
       "      <td>6423</td>\n",
       "      <td>331.8</td>\n",
       "      <td>Ride</td>\n",
       "      <td>Ride</td>\n",
       "      <td>10089183560</td>\n",
       "      <td>2023-10-21T11:45:01Z</td>\n",
       "      <td>3.790</td>\n",
       "      <td>10.856</td>\n",
       "      <td>139.6</td>\n",
       "      <td>192.0</td>\n",
       "      <td>410.7</td>\n",
       "      <td>271.6</td>\n",
       "      <td>NaN</td>\n",
       "    </tr>\n",
       "    <tr>\n",
       "      <th>4</th>\n",
       "      <td>Morning Ride</td>\n",
       "      <td>19236.5</td>\n",
       "      <td>8046</td>\n",
       "      <td>501.2</td>\n",
       "      <td>Ride</td>\n",
       "      <td>Ride</td>\n",
       "      <td>10025746502</td>\n",
       "      <td>2023-10-12T10:54:38Z</td>\n",
       "      <td>2.391</td>\n",
       "      <td>10.828</td>\n",
       "      <td>146.8</td>\n",
       "      <td>189.0</td>\n",
       "      <td>548.4</td>\n",
       "      <td>275.2</td>\n",
       "      <td>NaN</td>\n",
       "    </tr>\n",
       "  </tbody>\n",
       "</table>\n",
       "</div>"
      ],
      "text/plain": [
       "           name  distance  moving_time  total_elevation_gain  type sport_type  \\\n",
       "0  Morning Ride   21662.8         6352                 481.5  Ride       Ride   \n",
       "1  Morning Ride   20281.0         7385                 489.1  Ride       Ride   \n",
       "2  Morning Ride   21828.0         8172                 562.4  Ride       Ride   \n",
       "3  Morning Ride   24342.8         6423                 331.8  Ride       Ride   \n",
       "4  Morning Ride   19236.5         8046                 501.2  Ride       Ride   \n",
       "\n",
       "            id            start_date  average_speed  max_speed  \\\n",
       "0  10160257723  2023-11-04T11:11:10Z          3.410     13.032   \n",
       "1  10148032615  2023-11-02T10:26:44Z          2.746     11.712   \n",
       "2  10119802777  2023-10-28T11:03:56Z          2.671     11.045   \n",
       "3  10089183560  2023-10-21T11:45:01Z          3.790     10.856   \n",
       "4  10025746502  2023-10-12T10:54:38Z          2.391     10.828   \n",
       "\n",
       "   average_heartrate  max_heartrate  elev_high  elev_low  average_temp  \n",
       "0              152.8          189.0      599.5     275.5           NaN  \n",
       "1              147.4          196.0      536.5     275.5           NaN  \n",
       "2              151.9          194.0      533.1     274.8           NaN  \n",
       "3              139.6          192.0      410.7     271.6           NaN  \n",
       "4              146.8          189.0      548.4     275.2           NaN  "
      ]
     },
     "execution_count": 96,
     "metadata": {},
     "output_type": "execute_result"
    }
   ],
   "source": [
    "# novo dataframe com o filtro por tipo de esporte\n",
    "df_ride = df_strava.loc[df_strava['sport_type'] == \"Ride\"]\n",
    "\n",
    "# listando as primeiras linhas\n",
    "df_ride.head()"
   ]
  },
  {
   "cell_type": "markdown",
   "metadata": {},
   "source": [
    "Validando se o novo dataframe só contém um tipo de valor na coluna sport_type"
   ]
  },
  {
   "cell_type": "code",
   "execution_count": 97,
   "metadata": {},
   "outputs": [
    {
     "data": {
      "text/plain": [
       "array(['Ride'], dtype=object)"
      ]
     },
     "execution_count": 97,
     "metadata": {},
     "output_type": "execute_result"
    }
   ],
   "source": [
    "df_ride['sport_type'].unique()"
   ]
  },
  {
   "cell_type": "code",
   "execution_count": 98,
   "metadata": {},
   "outputs": [
    {
     "data": {
      "text/html": [
       "<div>\n",
       "<style scoped>\n",
       "    .dataframe tbody tr th:only-of-type {\n",
       "        vertical-align: middle;\n",
       "    }\n",
       "\n",
       "    .dataframe tbody tr th {\n",
       "        vertical-align: top;\n",
       "    }\n",
       "\n",
       "    .dataframe thead th {\n",
       "        text-align: right;\n",
       "    }\n",
       "</style>\n",
       "<table border=\"1\" class=\"dataframe\">\n",
       "  <thead>\n",
       "    <tr style=\"text-align: right;\">\n",
       "      <th></th>\n",
       "      <th>distance</th>\n",
       "      <th>moving_time</th>\n",
       "      <th>total_elevation_gain</th>\n",
       "      <th>id</th>\n",
       "      <th>average_speed</th>\n",
       "      <th>max_speed</th>\n",
       "      <th>average_heartrate</th>\n",
       "      <th>max_heartrate</th>\n",
       "      <th>elev_high</th>\n",
       "      <th>elev_low</th>\n",
       "      <th>average_temp</th>\n",
       "    </tr>\n",
       "  </thead>\n",
       "  <tbody>\n",
       "    <tr>\n",
       "      <th>count</th>\n",
       "      <td>842.000000</td>\n",
       "      <td>842.000000</td>\n",
       "      <td>842.000000</td>\n",
       "      <td>8.420000e+02</td>\n",
       "      <td>842.000000</td>\n",
       "      <td>842.000000</td>\n",
       "      <td>372.000000</td>\n",
       "      <td>372.000000</td>\n",
       "      <td>842.000000</td>\n",
       "      <td>842.000000</td>\n",
       "      <td>579.000000</td>\n",
       "    </tr>\n",
       "    <tr>\n",
       "      <th>mean</th>\n",
       "      <td>30496.508551</td>\n",
       "      <td>5862.775534</td>\n",
       "      <td>483.880760</td>\n",
       "      <td>3.048431e+09</td>\n",
       "      <td>5.185167</td>\n",
       "      <td>12.745982</td>\n",
       "      <td>151.910753</td>\n",
       "      <td>182.282258</td>\n",
       "      <td>431.085748</td>\n",
       "      <td>211.778622</td>\n",
       "      <td>25.236615</td>\n",
       "    </tr>\n",
       "    <tr>\n",
       "      <th>std</th>\n",
       "      <td>21250.533788</td>\n",
       "      <td>3729.676260</td>\n",
       "      <td>349.403808</td>\n",
       "      <td>2.384336e+09</td>\n",
       "      <td>2.097894</td>\n",
       "      <td>3.831978</td>\n",
       "      <td>8.127086</td>\n",
       "      <td>9.646496</td>\n",
       "      <td>214.156554</td>\n",
       "      <td>123.486117</td>\n",
       "      <td>4.736771</td>\n",
       "    </tr>\n",
       "    <tr>\n",
       "      <th>min</th>\n",
       "      <td>0.000000</td>\n",
       "      <td>0.000000</td>\n",
       "      <td>0.000000</td>\n",
       "      <td>4.056882e+08</td>\n",
       "      <td>0.000000</td>\n",
       "      <td>0.000000</td>\n",
       "      <td>109.200000</td>\n",
       "      <td>141.000000</td>\n",
       "      <td>0.000000</td>\n",
       "      <td>-278.000000</td>\n",
       "      <td>0.000000</td>\n",
       "    </tr>\n",
       "    <tr>\n",
       "      <th>25%</th>\n",
       "      <td>17623.800000</td>\n",
       "      <td>3989.750000</td>\n",
       "      <td>277.000000</td>\n",
       "      <td>1.357570e+09</td>\n",
       "      <td>3.989000</td>\n",
       "      <td>11.200000</td>\n",
       "      <td>147.275000</td>\n",
       "      <td>176.000000</td>\n",
       "      <td>377.800000</td>\n",
       "      <td>186.450000</td>\n",
       "      <td>23.000000</td>\n",
       "    </tr>\n",
       "    <tr>\n",
       "      <th>50%</th>\n",
       "      <td>27538.000000</td>\n",
       "      <td>5383.500000</td>\n",
       "      <td>444.350000</td>\n",
       "      <td>1.758372e+09</td>\n",
       "      <td>5.261500</td>\n",
       "      <td>13.100000</td>\n",
       "      <td>151.950000</td>\n",
       "      <td>183.000000</td>\n",
       "      <td>451.400000</td>\n",
       "      <td>259.300000</td>\n",
       "      <td>25.000000</td>\n",
       "    </tr>\n",
       "    <tr>\n",
       "      <th>75%</th>\n",
       "      <td>39090.925000</td>\n",
       "      <td>7908.250000</td>\n",
       "      <td>647.750000</td>\n",
       "      <td>4.526791e+09</td>\n",
       "      <td>6.086000</td>\n",
       "      <td>14.500000</td>\n",
       "      <td>157.275000</td>\n",
       "      <td>188.000000</td>\n",
       "      <td>539.875000</td>\n",
       "      <td>277.000000</td>\n",
       "      <td>28.000000</td>\n",
       "    </tr>\n",
       "    <tr>\n",
       "      <th>max</th>\n",
       "      <td>200526.000000</td>\n",
       "      <td>36664.000000</td>\n",
       "      <td>2764.000000</td>\n",
       "      <td>1.016026e+10</td>\n",
       "      <td>33.640000</td>\n",
       "      <td>31.700000</td>\n",
       "      <td>174.500000</td>\n",
       "      <td>232.000000</td>\n",
       "      <td>1615.600000</td>\n",
       "      <td>985.500000</td>\n",
       "      <td>40.000000</td>\n",
       "    </tr>\n",
       "  </tbody>\n",
       "</table>\n",
       "</div>"
      ],
      "text/plain": [
       "            distance   moving_time  total_elevation_gain            id  \\\n",
       "count     842.000000    842.000000            842.000000  8.420000e+02   \n",
       "mean    30496.508551   5862.775534            483.880760  3.048431e+09   \n",
       "std     21250.533788   3729.676260            349.403808  2.384336e+09   \n",
       "min         0.000000      0.000000              0.000000  4.056882e+08   \n",
       "25%     17623.800000   3989.750000            277.000000  1.357570e+09   \n",
       "50%     27538.000000   5383.500000            444.350000  1.758372e+09   \n",
       "75%     39090.925000   7908.250000            647.750000  4.526791e+09   \n",
       "max    200526.000000  36664.000000           2764.000000  1.016026e+10   \n",
       "\n",
       "       average_speed   max_speed  average_heartrate  max_heartrate  \\\n",
       "count     842.000000  842.000000         372.000000     372.000000   \n",
       "mean        5.185167   12.745982         151.910753     182.282258   \n",
       "std         2.097894    3.831978           8.127086       9.646496   \n",
       "min         0.000000    0.000000         109.200000     141.000000   \n",
       "25%         3.989000   11.200000         147.275000     176.000000   \n",
       "50%         5.261500   13.100000         151.950000     183.000000   \n",
       "75%         6.086000   14.500000         157.275000     188.000000   \n",
       "max        33.640000   31.700000         174.500000     232.000000   \n",
       "\n",
       "         elev_high    elev_low  average_temp  \n",
       "count   842.000000  842.000000    579.000000  \n",
       "mean    431.085748  211.778622     25.236615  \n",
       "std     214.156554  123.486117      4.736771  \n",
       "min       0.000000 -278.000000      0.000000  \n",
       "25%     377.800000  186.450000     23.000000  \n",
       "50%     451.400000  259.300000     25.000000  \n",
       "75%     539.875000  277.000000     28.000000  \n",
       "max    1615.600000  985.500000     40.000000  "
      ]
     },
     "execution_count": 98,
     "metadata": {},
     "output_type": "execute_result"
    }
   ],
   "source": [
    "# exibindo o sumário estatístico\n",
    "df_ride.describe()"
   ]
  },
  {
   "cell_type": "markdown",
   "metadata": {},
   "source": [
    "## 1.2 Pré-processamento\n",
    "Neste ponto iremos tratar algumas informações e verificar se as informações respondem as perguntas iniciais."
   ]
  },
  {
   "cell_type": "markdown",
   "metadata": {},
   "source": [
    "Analisando se há valores nulos no dataframe"
   ]
  },
  {
   "cell_type": "code",
   "execution_count": 99,
   "metadata": {},
   "outputs": [
    {
     "data": {
      "text/plain": [
       "<AxesSubplot:>"
      ]
     },
     "execution_count": 99,
     "metadata": {},
     "output_type": "execute_result"
    },
    {
     "data": {
      "image/png": "[encoded data removed]",
      "text/plain": [
       "<Figure size 1800x720 with 2 Axes>"
      ]
     },
     "metadata": {},
     "output_type": "display_data"
    }
   ],
   "source": [
    "# exibindo visualização matricial da nulidade do dataset\n",
    "ms.matrix(df_ride)"
   ]
  },
  {
   "cell_type": "markdown",
   "metadata": {},
   "source": [
    "Verificando a quantidade de valores nulos"
   ]
  },
  {
   "cell_type": "code",
   "execution_count": 100,
   "metadata": {},
   "outputs": [
    {
     "data": {
      "text/plain": [
       "name                      0\n",
       "distance                  0\n",
       "moving_time               0\n",
       "total_elevation_gain      0\n",
       "type                      0\n",
       "sport_type                0\n",
       "id                        0\n",
       "start_date                0\n",
       "average_speed             0\n",
       "max_speed                 0\n",
       "average_heartrate       470\n",
       "max_heartrate           470\n",
       "elev_high                 0\n",
       "elev_low                  0\n",
       "average_temp            263\n",
       "dtype: int64"
      ]
     },
     "execution_count": 100,
     "metadata": {},
     "output_type": "execute_result"
    }
   ],
   "source": [
    "df_ride.isnull().sum()"
   ]
  },
  {
   "cell_type": "markdown",
   "metadata": {},
   "source": [
    "Indenfica-se que os atributos average_heartrate, max_heartrate e average_temp possuiem uma quantidade consideravel de valores nulos, sendo assim será feito o tratamento dos valores para os atributos average_heartrate e max_heartrate considerando uma amostragem das informações diferente de nulos e sua relação com a distancia percorrida para um melhor agrupamento de conjuntos similares."
   ]
  },
  {
   "cell_type": "code",
   "execution_count": 101,
   "metadata": {},
   "outputs": [
    {
     "data": {
      "text/plain": [
       "Index(['name', 'distance', 'moving_time', 'total_elevation_gain', 'type',\n",
       "       'sport_type', 'id', 'start_date', 'average_speed', 'max_speed',\n",
       "       'average_heartrate', 'max_heartrate', 'elev_high', 'elev_low',\n",
       "       'average_temp', 'grp_distance'],\n",
       "      dtype='object')"
      ]
     },
     "execution_count": 101,
     "metadata": {},
     "output_type": "execute_result"
    }
   ],
   "source": [
    "# criando as condições para classificação do atributo distance\n",
    "cond_baixa = df_ride['distance'] < 15000\n",
    "cond_media = (df_ride['distance'] >= 15000) & (df_ride['distance'] < 40000)\n",
    "cond_alta = df_ride['distance'] >= 40000\n",
    "\n",
    "# o valores para classificar\n",
    "labels = ['Baixa', 'Media', 'Alta']\n",
    "\n",
    "# criando o novo atributo 'grp_distance' com a condição criada acima\n",
    "df_ride['grp_distance'] = np.select([cond_baixa, cond_media, cond_alta], labels, default='Unknown')\n",
    "\n",
    "# visualizando as colunas do dataframe com a criação do novo atributo\n",
    "df_ride.columns"
   ]
  },
  {
   "cell_type": "code",
   "execution_count": 102,
   "metadata": {},
   "outputs": [
    {
     "data": {
      "text/html": [
       "<div>\n",
       "<style scoped>\n",
       "    .dataframe tbody tr th:only-of-type {\n",
       "        vertical-align: middle;\n",
       "    }\n",
       "\n",
       "    .dataframe tbody tr th {\n",
       "        vertical-align: top;\n",
       "    }\n",
       "\n",
       "    .dataframe thead th {\n",
       "        text-align: right;\n",
       "    }\n",
       "</style>\n",
       "<table border=\"1\" class=\"dataframe\">\n",
       "  <thead>\n",
       "    <tr style=\"text-align: right;\">\n",
       "      <th></th>\n",
       "      <th>name</th>\n",
       "      <th>distance</th>\n",
       "      <th>moving_time</th>\n",
       "      <th>total_elevation_gain</th>\n",
       "      <th>type</th>\n",
       "      <th>sport_type</th>\n",
       "      <th>id</th>\n",
       "      <th>start_date</th>\n",
       "      <th>average_speed</th>\n",
       "      <th>max_speed</th>\n",
       "      <th>average_heartrate</th>\n",
       "      <th>max_heartrate</th>\n",
       "      <th>elev_high</th>\n",
       "      <th>elev_low</th>\n",
       "      <th>average_temp</th>\n",
       "      <th>grp_distance</th>\n",
       "    </tr>\n",
       "  </thead>\n",
       "  <tbody>\n",
       "  </tbody>\n",
       "</table>\n",
       "</div>"
      ],
      "text/plain": [
       "Empty DataFrame\n",
       "Columns: [name, distance, moving_time, total_elevation_gain, type, sport_type, id, start_date, average_speed, max_speed, average_heartrate, max_heartrate, elev_high, elev_low, average_temp, grp_distance]\n",
       "Index: []"
      ]
     },
     "execution_count": 102,
     "metadata": {},
     "output_type": "execute_result"
    }
   ],
   "source": [
    "# verificando se tem valor desconhecido\n",
    "df_ride.loc[df_ride['grp_distance'] == \"Unknown\"]"
   ]
  },
  {
   "cell_type": "code",
   "execution_count": 103,
   "metadata": {},
   "outputs": [
    {
     "data": {
      "text/html": [
       "<div>\n",
       "<style scoped>\n",
       "    .dataframe tbody tr th:only-of-type {\n",
       "        vertical-align: middle;\n",
       "    }\n",
       "\n",
       "    .dataframe tbody tr th {\n",
       "        vertical-align: top;\n",
       "    }\n",
       "\n",
       "    .dataframe thead th {\n",
       "        text-align: right;\n",
       "    }\n",
       "</style>\n",
       "<table border=\"1\" class=\"dataframe\">\n",
       "  <thead>\n",
       "    <tr style=\"text-align: right;\">\n",
       "      <th></th>\n",
       "      <th>distance</th>\n",
       "      <th>moving_time</th>\n",
       "      <th>total_elevation_gain</th>\n",
       "      <th>id</th>\n",
       "      <th>average_speed</th>\n",
       "      <th>max_speed</th>\n",
       "      <th>average_heartrate</th>\n",
       "      <th>max_heartrate</th>\n",
       "      <th>elev_high</th>\n",
       "      <th>elev_low</th>\n",
       "      <th>average_temp</th>\n",
       "    </tr>\n",
       "    <tr>\n",
       "      <th>grp_distance</th>\n",
       "      <th></th>\n",
       "      <th></th>\n",
       "      <th></th>\n",
       "      <th></th>\n",
       "      <th></th>\n",
       "      <th></th>\n",
       "      <th></th>\n",
       "      <th></th>\n",
       "      <th></th>\n",
       "      <th></th>\n",
       "      <th></th>\n",
       "    </tr>\n",
       "  </thead>\n",
       "  <tbody>\n",
       "    <tr>\n",
       "      <th>Alta</th>\n",
       "      <td>58722.816418</td>\n",
       "      <td>10166.940299</td>\n",
       "      <td>769.946269</td>\n",
       "      <td>2.300592e+09</td>\n",
       "      <td>5.937512</td>\n",
       "      <td>15.374493</td>\n",
       "      <td>153.245455</td>\n",
       "      <td>183.131313</td>\n",
       "      <td>462.629353</td>\n",
       "      <td>207.882587</td>\n",
       "      <td>26.626016</td>\n",
       "    </tr>\n",
       "    <tr>\n",
       "      <th>Baixa</th>\n",
       "      <td>6287.404061</td>\n",
       "      <td>1794.538071</td>\n",
       "      <td>176.867005</td>\n",
       "      <td>1.724498e+09</td>\n",
       "      <td>4.224980</td>\n",
       "      <td>8.633802</td>\n",
       "      <td>151.289474</td>\n",
       "      <td>181.263158</td>\n",
       "      <td>316.908629</td>\n",
       "      <td>142.277665</td>\n",
       "      <td>24.325967</td>\n",
       "    </tr>\n",
       "    <tr>\n",
       "      <th>Media</th>\n",
       "      <td>28459.809685</td>\n",
       "      <td>5719.319820</td>\n",
       "      <td>490.598198</td>\n",
       "      <td>3.974400e+09</td>\n",
       "      <td>5.270608</td>\n",
       "      <td>13.380597</td>\n",
       "      <td>151.437008</td>\n",
       "      <td>182.027559</td>\n",
       "      <td>467.465541</td>\n",
       "      <td>244.379505</td>\n",
       "      <td>25.214545</td>\n",
       "    </tr>\n",
       "  </tbody>\n",
       "</table>\n",
       "</div>"
      ],
      "text/plain": [
       "                  distance   moving_time  total_elevation_gain            id  \\\n",
       "grp_distance                                                                   \n",
       "Alta          58722.816418  10166.940299            769.946269  2.300592e+09   \n",
       "Baixa          6287.404061   1794.538071            176.867005  1.724498e+09   \n",
       "Media         28459.809685   5719.319820            490.598198  3.974400e+09   \n",
       "\n",
       "              average_speed  max_speed  average_heartrate  max_heartrate  \\\n",
       "grp_distance                                                               \n",
       "Alta               5.937512  15.374493         153.245455     183.131313   \n",
       "Baixa              4.224980   8.633802         151.289474     181.263158   \n",
       "Media              5.270608  13.380597         151.437008     182.027559   \n",
       "\n",
       "               elev_high    elev_low  average_temp  \n",
       "grp_distance                                        \n",
       "Alta          462.629353  207.882587     26.626016  \n",
       "Baixa         316.908629  142.277665     24.325967  \n",
       "Media         467.465541  244.379505     25.214545  "
      ]
     },
     "execution_count": 103,
     "metadata": {},
     "output_type": "execute_result"
    }
   ],
   "source": [
    "# criando um dataframe para agrupar os atributos por grp_distance e a média\n",
    "df_grp_media = df_ride.groupby('grp_distance').mean()\n",
    "\n",
    "# visualizando o dataframe\n",
    "df_grp_media"
   ]
  },
  {
   "cell_type": "code",
   "execution_count": 104,
   "metadata": {},
   "outputs": [],
   "source": [
    "# Replace NaN values in column 'A' with 99 where column 'B' is not NaN\n",
    "#condition = ~df['B'].isna()\n",
    "#df['A'] = np.where(condition, df['A'].fillna(99), df['A'])"
   ]
  },
  {
   "cell_type": "markdown",
   "metadata": {},
   "source": [
    "Tratando os valores nulos para as colunas average_heartrate, max_reatrate e average_tmp. "
   ]
  },
  {
   "cell_type": "code",
   "execution_count": 105,
   "metadata": {},
   "outputs": [
    {
     "data": {
      "text/plain": [
       "<AxesSubplot:>"
      ]
     },
     "execution_count": 105,
     "metadata": {},
     "output_type": "execute_result"
    },
    {
     "data": {
      "image/png": "[encoded data removed]",
      "text/plain": [
       "<Figure size 1800x720 with 2 Axes>"
      ]
     },
     "metadata": {},
     "output_type": "display_data"
    }
   ],
   "source": [
    "# substituindo os NaN de 'Glucose', 'BloodPressure' e 'BMI' pela mediana da coluna\n",
    "df_ride['average_heartrate'].fillna(df_ride['average_heartrate'].median(), inplace=True)\n",
    "df_ride['max_heartrate'].fillna(df_ride['max_heartrate'].median(), inplace=True)\n",
    "df_ride['average_temp'].fillna(df_ride['average_temp'].median(), inplace=True)\n",
    "\n",
    "# visualizando se ha valores nulos\n",
    "ms.matrix(df_ride)"
   ]
  },
  {
   "cell_type": "markdown",
   "metadata": {},
   "source": [
    "Com o objetivo de verificar a relação do ritmo cardiáco com o esforço desenvolvido e tentar identifcar a relação entre o tempo de atividades, a distancia percorrida e o ganho de elevação obtido para prever a hipotse de riscos a saúde."
   ]
  },
  {
   "cell_type": "code",
   "execution_count": 115,
   "metadata": {},
   "outputs": [
    {
     "data": {
      "text/plain": [
       "Text(0.5, 1.0, 'Boxplot Média Batimentos Cardiacos')"
      ]
     },
     "execution_count": 115,
     "metadata": {},
     "output_type": "execute_result"
    },
    {
     "data": {
      "image/png": "[encoded data removed]",
      "text/plain": [
       "<Figure size 432x288 with 1 Axes>"
      ]
     },
     "metadata": {},
     "output_type": "display_data"
    }
   ],
   "source": [
    "# configurando o estilo do gráfico\n",
    "sns.set(style=\"whitegrid\")\n",
    "\n",
    "# Create box plots for all columns\n",
    "#for column in df_ride.columns:\n",
    "#    plt.figure(figsize=(4, 2))\n",
    "#    sns.boxplot(x=df_ride[column], palette=\"Set2\")\n",
    "#    plt.title(f'Box Plot for {column}')\n",
    "#plt.show()\n",
    "\n",
    "\n",
    "sns.boxplot(x=df_ride['average_heartrate'], palette=\"Set2\")\n",
    "plt.title('Boxplot Média Batimentos Cardiacos')"
   ]
  },
  {
   "cell_type": "code",
   "execution_count": 107,
   "metadata": {},
   "outputs": [
    {
     "data": {
      "text/plain": [
       "'2023-11-04T11:11:10Z'"
      ]
     },
     "execution_count": 107,
     "metadata": {},
     "output_type": "execute_result"
    }
   ],
   "source": [
    "df_ride['start_date'].max()"
   ]
  },
  {
   "cell_type": "code",
   "execution_count": 112,
   "metadata": {},
   "outputs": [
    {
     "data": {
      "text/html": [
       "<div>\n",
       "<style scoped>\n",
       "    .dataframe tbody tr th:only-of-type {\n",
       "        vertical-align: middle;\n",
       "    }\n",
       "\n",
       "    .dataframe tbody tr th {\n",
       "        vertical-align: top;\n",
       "    }\n",
       "\n",
       "    .dataframe thead th {\n",
       "        text-align: right;\n",
       "    }\n",
       "</style>\n",
       "<table border=\"1\" class=\"dataframe\">\n",
       "  <thead>\n",
       "    <tr style=\"text-align: right;\">\n",
       "      <th></th>\n",
       "      <th>name</th>\n",
       "      <th>distance</th>\n",
       "      <th>moving_time</th>\n",
       "      <th>total_elevation_gain</th>\n",
       "      <th>type</th>\n",
       "      <th>sport_type</th>\n",
       "      <th>id</th>\n",
       "      <th>start_date</th>\n",
       "      <th>average_speed</th>\n",
       "      <th>max_speed</th>\n",
       "      <th>average_heartrate</th>\n",
       "      <th>max_heartrate</th>\n",
       "      <th>elev_high</th>\n",
       "      <th>elev_low</th>\n",
       "      <th>average_temp</th>\n",
       "      <th>grp_distance</th>\n",
       "      <th>Age</th>\n",
       "      <th>FCmax</th>\n",
       "    </tr>\n",
       "  </thead>\n",
       "  <tbody>\n",
       "    <tr>\n",
       "      <th>0</th>\n",
       "      <td>Morning Ride</td>\n",
       "      <td>21662.8</td>\n",
       "      <td>6352</td>\n",
       "      <td>481.5</td>\n",
       "      <td>Ride</td>\n",
       "      <td>Ride</td>\n",
       "      <td>10160257723</td>\n",
       "      <td>2023-11-04 11:11:10+00:00</td>\n",
       "      <td>3.410</td>\n",
       "      <td>13.032</td>\n",
       "      <td>152.8</td>\n",
       "      <td>189.0</td>\n",
       "      <td>599.5</td>\n",
       "      <td>275.5</td>\n",
       "      <td>25.0</td>\n",
       "      <td>Media</td>\n",
       "      <td>43</td>\n",
       "      <td>177</td>\n",
       "    </tr>\n",
       "    <tr>\n",
       "      <th>1</th>\n",
       "      <td>Morning Ride</td>\n",
       "      <td>20281.0</td>\n",
       "      <td>7385</td>\n",
       "      <td>489.1</td>\n",
       "      <td>Ride</td>\n",
       "      <td>Ride</td>\n",
       "      <td>10148032615</td>\n",
       "      <td>2023-11-02 10:26:44+00:00</td>\n",
       "      <td>2.746</td>\n",
       "      <td>11.712</td>\n",
       "      <td>147.4</td>\n",
       "      <td>196.0</td>\n",
       "      <td>536.5</td>\n",
       "      <td>275.5</td>\n",
       "      <td>25.0</td>\n",
       "      <td>Media</td>\n",
       "      <td>43</td>\n",
       "      <td>177</td>\n",
       "    </tr>\n",
       "    <tr>\n",
       "      <th>2</th>\n",
       "      <td>Morning Ride</td>\n",
       "      <td>21828.0</td>\n",
       "      <td>8172</td>\n",
       "      <td>562.4</td>\n",
       "      <td>Ride</td>\n",
       "      <td>Ride</td>\n",
       "      <td>10119802777</td>\n",
       "      <td>2023-10-28 11:03:56+00:00</td>\n",
       "      <td>2.671</td>\n",
       "      <td>11.045</td>\n",
       "      <td>151.9</td>\n",
       "      <td>194.0</td>\n",
       "      <td>533.1</td>\n",
       "      <td>274.8</td>\n",
       "      <td>25.0</td>\n",
       "      <td>Media</td>\n",
       "      <td>43</td>\n",
       "      <td>177</td>\n",
       "    </tr>\n",
       "    <tr>\n",
       "      <th>3</th>\n",
       "      <td>Morning Ride</td>\n",
       "      <td>24342.8</td>\n",
       "      <td>6423</td>\n",
       "      <td>331.8</td>\n",
       "      <td>Ride</td>\n",
       "      <td>Ride</td>\n",
       "      <td>10089183560</td>\n",
       "      <td>2023-10-21 11:45:01+00:00</td>\n",
       "      <td>3.790</td>\n",
       "      <td>10.856</td>\n",
       "      <td>139.6</td>\n",
       "      <td>192.0</td>\n",
       "      <td>410.7</td>\n",
       "      <td>271.6</td>\n",
       "      <td>25.0</td>\n",
       "      <td>Media</td>\n",
       "      <td>43</td>\n",
       "      <td>177</td>\n",
       "    </tr>\n",
       "    <tr>\n",
       "      <th>4</th>\n",
       "      <td>Morning Ride</td>\n",
       "      <td>19236.5</td>\n",
       "      <td>8046</td>\n",
       "      <td>501.2</td>\n",
       "      <td>Ride</td>\n",
       "      <td>Ride</td>\n",
       "      <td>10025746502</td>\n",
       "      <td>2023-10-12 10:54:38+00:00</td>\n",
       "      <td>2.391</td>\n",
       "      <td>10.828</td>\n",
       "      <td>146.8</td>\n",
       "      <td>189.0</td>\n",
       "      <td>548.4</td>\n",
       "      <td>275.2</td>\n",
       "      <td>25.0</td>\n",
       "      <td>Media</td>\n",
       "      <td>43</td>\n",
       "      <td>177</td>\n",
       "    </tr>\n",
       "  </tbody>\n",
       "</table>\n",
       "</div>"
      ],
      "text/plain": [
       "           name  distance  moving_time  total_elevation_gain  type sport_type  \\\n",
       "0  Morning Ride   21662.8         6352                 481.5  Ride       Ride   \n",
       "1  Morning Ride   20281.0         7385                 489.1  Ride       Ride   \n",
       "2  Morning Ride   21828.0         8172                 562.4  Ride       Ride   \n",
       "3  Morning Ride   24342.8         6423                 331.8  Ride       Ride   \n",
       "4  Morning Ride   19236.5         8046                 501.2  Ride       Ride   \n",
       "\n",
       "            id                start_date  average_speed  max_speed  \\\n",
       "0  10160257723 2023-11-04 11:11:10+00:00          3.410     13.032   \n",
       "1  10148032615 2023-11-02 10:26:44+00:00          2.746     11.712   \n",
       "2  10119802777 2023-10-28 11:03:56+00:00          2.671     11.045   \n",
       "3  10089183560 2023-10-21 11:45:01+00:00          3.790     10.856   \n",
       "4  10025746502 2023-10-12 10:54:38+00:00          2.391     10.828   \n",
       "\n",
       "   average_heartrate  max_heartrate  elev_high  elev_low  average_temp  \\\n",
       "0              152.8          189.0      599.5     275.5          25.0   \n",
       "1              147.4          196.0      536.5     275.5          25.0   \n",
       "2              151.9          194.0      533.1     274.8          25.0   \n",
       "3              139.6          192.0      410.7     271.6          25.0   \n",
       "4              146.8          189.0      548.4     275.2          25.0   \n",
       "\n",
       "  grp_distance  Age  FCmax  \n",
       "0        Media   43    177  \n",
       "1        Media   43    177  \n",
       "2        Media   43    177  \n",
       "3        Media   43    177  \n",
       "4        Media   43    177  "
      ]
     },
     "execution_count": 112,
     "metadata": {},
     "output_type": "execute_result"
    }
   ],
   "source": [
    "# convertendo o campo start_date para o tipo data\n",
    "df_ride['start_date'] = pd.to_datetime(df['start_date'])\n",
    "\n",
    "# funcao para calcular a idade no periodo da atividade\n",
    "def calculate_age(birthdate):\n",
    "    current_date = datetime(1980,11,18)\n",
    "    age = birthdate.year - current_date.year - ((current_date.month, current_date.day) < (birthdate.month, birthdate.day))\n",
    "    return age\n",
    "\n",
    "# criando a nova coluna com o calculo da idade\n",
    "df_ride['Age'] = df_ride['start_date'].apply(calculate_age)\n",
    "\n",
    "# função para calcular o Frequencia Cardiaca Maxima (FC max)\n",
    "def calc_fcmax(fcmax):\n",
    "    fc_max = 220 - fcmax\n",
    "    return fc_max\n",
    "\n",
    "# criando a nova coluna com o calculo do FC Max\n",
    "df_ride['FCmax'] = df_ride['Age'].apply(calc_fcmax)\n",
    "\n",
    "# Display the DataFrame with the calculated age\n",
    "df_ride.head()\n"
   ]
  },
  {
   "cell_type": "code",
   "execution_count": 114,
   "metadata": {},
   "outputs": [
    {
     "data": {
      "text/html": [
       "<div>\n",
       "<style scoped>\n",
       "    .dataframe tbody tr th:only-of-type {\n",
       "        vertical-align: middle;\n",
       "    }\n",
       "\n",
       "    .dataframe tbody tr th {\n",
       "        vertical-align: top;\n",
       "    }\n",
       "\n",
       "    .dataframe thead th {\n",
       "        text-align: right;\n",
       "    }\n",
       "</style>\n",
       "<table border=\"1\" class=\"dataframe\">\n",
       "  <thead>\n",
       "    <tr style=\"text-align: right;\">\n",
       "      <th></th>\n",
       "      <th>name</th>\n",
       "      <th>distance</th>\n",
       "      <th>moving_time</th>\n",
       "      <th>total_elevation_gain</th>\n",
       "      <th>type</th>\n",
       "      <th>sport_type</th>\n",
       "      <th>id</th>\n",
       "      <th>start_date</th>\n",
       "      <th>average_speed</th>\n",
       "      <th>max_speed</th>\n",
       "      <th>average_heartrate</th>\n",
       "      <th>max_heartrate</th>\n",
       "      <th>elev_high</th>\n",
       "      <th>elev_low</th>\n",
       "      <th>average_temp</th>\n",
       "      <th>grp_distance</th>\n",
       "      <th>Age</th>\n",
       "      <th>FCmax</th>\n",
       "    </tr>\n",
       "  </thead>\n",
       "  <tbody>\n",
       "    <tr>\n",
       "      <th>551</th>\n",
       "      <td>Morning Ride</td>\n",
       "      <td>0.0</td>\n",
       "      <td>0</td>\n",
       "      <td>0.0</td>\n",
       "      <td>Ride</td>\n",
       "      <td>Ride</td>\n",
       "      <td>1357584850</td>\n",
       "      <td>2017-05-26 09:41:06+00:00</td>\n",
       "      <td>0.000</td>\n",
       "      <td>0.0</td>\n",
       "      <td>151.95</td>\n",
       "      <td>183.0</td>\n",
       "      <td>0.4</td>\n",
       "      <td>-28.0</td>\n",
       "      <td>0.0</td>\n",
       "      <td>Baixa</td>\n",
       "      <td>37</td>\n",
       "      <td>183</td>\n",
       "    </tr>\n",
       "    <tr>\n",
       "      <th>558</th>\n",
       "      <td>Evening Ride</td>\n",
       "      <td>0.0</td>\n",
       "      <td>1</td>\n",
       "      <td>0.0</td>\n",
       "      <td>Ride</td>\n",
       "      <td>Ride</td>\n",
       "      <td>1357584610</td>\n",
       "      <td>2017-05-15 23:02:31+00:00</td>\n",
       "      <td>0.000</td>\n",
       "      <td>0.0</td>\n",
       "      <td>151.95</td>\n",
       "      <td>183.0</td>\n",
       "      <td>74.0</td>\n",
       "      <td>74.0</td>\n",
       "      <td>25.0</td>\n",
       "      <td>Baixa</td>\n",
       "      <td>37</td>\n",
       "      <td>183</td>\n",
       "    </tr>\n",
       "    <tr>\n",
       "      <th>760</th>\n",
       "      <td>Morning Ride</td>\n",
       "      <td>0.1</td>\n",
       "      <td>3</td>\n",
       "      <td>0.0</td>\n",
       "      <td>Ride</td>\n",
       "      <td>Ride</td>\n",
       "      <td>1357572203</td>\n",
       "      <td>2016-07-24 12:34:31+00:00</td>\n",
       "      <td>0.033</td>\n",
       "      <td>0.0</td>\n",
       "      <td>151.95</td>\n",
       "      <td>183.0</td>\n",
       "      <td>3.0</td>\n",
       "      <td>3.0</td>\n",
       "      <td>0.0</td>\n",
       "      <td>Baixa</td>\n",
       "      <td>36</td>\n",
       "      <td>184</td>\n",
       "    </tr>\n",
       "    <tr>\n",
       "      <th>800</th>\n",
       "      <td>Evening Ride</td>\n",
       "      <td>0.0</td>\n",
       "      <td>5</td>\n",
       "      <td>0.0</td>\n",
       "      <td>Ride</td>\n",
       "      <td>Ride</td>\n",
       "      <td>1357569801</td>\n",
       "      <td>2016-04-24 22:07:48+00:00</td>\n",
       "      <td>0.000</td>\n",
       "      <td>0.0</td>\n",
       "      <td>151.95</td>\n",
       "      <td>183.0</td>\n",
       "      <td>39.6</td>\n",
       "      <td>39.4</td>\n",
       "      <td>0.0</td>\n",
       "      <td>Baixa</td>\n",
       "      <td>36</td>\n",
       "      <td>184</td>\n",
       "    </tr>\n",
       "    <tr>\n",
       "      <th>889</th>\n",
       "      <td>Evening Ride</td>\n",
       "      <td>0.0</td>\n",
       "      <td>1</td>\n",
       "      <td>0.0</td>\n",
       "      <td>Ride</td>\n",
       "      <td>Ride</td>\n",
       "      <td>1357562666</td>\n",
       "      <td>2015-06-14 22:17:36+00:00</td>\n",
       "      <td>0.000</td>\n",
       "      <td>0.0</td>\n",
       "      <td>151.95</td>\n",
       "      <td>183.0</td>\n",
       "      <td>121.2</td>\n",
       "      <td>121.2</td>\n",
       "      <td>25.0</td>\n",
       "      <td>Baixa</td>\n",
       "      <td>35</td>\n",
       "      <td>185</td>\n",
       "    </tr>\n",
       "  </tbody>\n",
       "</table>\n",
       "</div>"
      ],
      "text/plain": [
       "             name  distance  moving_time  total_elevation_gain  type  \\\n",
       "551  Morning Ride       0.0            0                   0.0  Ride   \n",
       "558  Evening Ride       0.0            1                   0.0  Ride   \n",
       "760  Morning Ride       0.1            3                   0.0  Ride   \n",
       "800  Evening Ride       0.0            5                   0.0  Ride   \n",
       "889  Evening Ride       0.0            1                   0.0  Ride   \n",
       "\n",
       "    sport_type          id                start_date  average_speed  \\\n",
       "551       Ride  1357584850 2017-05-26 09:41:06+00:00          0.000   \n",
       "558       Ride  1357584610 2017-05-15 23:02:31+00:00          0.000   \n",
       "760       Ride  1357572203 2016-07-24 12:34:31+00:00          0.033   \n",
       "800       Ride  1357569801 2016-04-24 22:07:48+00:00          0.000   \n",
       "889       Ride  1357562666 2015-06-14 22:17:36+00:00          0.000   \n",
       "\n",
       "     max_speed  average_heartrate  max_heartrate  elev_high  elev_low  \\\n",
       "551        0.0             151.95          183.0        0.4     -28.0   \n",
       "558        0.0             151.95          183.0       74.0      74.0   \n",
       "760        0.0             151.95          183.0        3.0       3.0   \n",
       "800        0.0             151.95          183.0       39.6      39.4   \n",
       "889        0.0             151.95          183.0      121.2     121.2   \n",
       "\n",
       "     average_temp grp_distance  Age  FCmax  \n",
       "551           0.0        Baixa   37    183  \n",
       "558          25.0        Baixa   37    183  \n",
       "760           0.0        Baixa   36    184  \n",
       "800           0.0        Baixa   36    184  \n",
       "889          25.0        Baixa   35    185  "
      ]
     },
     "execution_count": 114,
     "metadata": {},
     "output_type": "execute_result"
    }
   ],
   "source": [
    "df_ride.loc[df_ride['distance'] <= 1]"
   ]
  },
  {
   "cell_type": "code",
   "execution_count": null,
   "metadata": {},
   "outputs": [],
   "source": [
    "df_ride = df_ride[df_ride['distance'] > 10000]\n",
    "\n",
    "df_ride.describe()"
   ]
  },
  {
   "cell_type": "code",
   "execution_count": 117,
   "metadata": {},
   "outputs": [
    {
     "data": {
      "text/plain": [
       "Text(0.5, 1.0, 'Distância x Media de Batimentos Cardíacos')"
      ]
     },
     "execution_count": 117,
     "metadata": {},
     "output_type": "execute_result"
    },
    {
     "data": {
      "image/png": "[encoded data removed]",
      "text/plain": [
       "<Figure size 432x288 with 1 Axes>"
      ]
     },
     "metadata": {},
     "output_type": "display_data"
    }
   ],
   "source": [
    "df_scatter_ride = df_ride[['distance', 'average_heartrate']]\n",
    "\n",
    "colors = {'distance': 'red', 'average_heartrate': 'blue'}\n",
    "\n",
    "df_scatter_ride.plot.scatter(x='distance',y='average_heartrate')\n",
    "\n",
    "plt.title('Distância x Media de Batimentos Cardíacos')\n"
   ]
  },
  {
   "cell_type": "code",
   "execution_count": 116,
   "metadata": {},
   "outputs": [
    {
     "data": {
      "text/plain": [
       "Text(0.5, 1.0, 'Tempo Movimento x Media de Batimentos Cardíacos')"
      ]
     },
     "execution_count": 116,
     "metadata": {},
     "output_type": "execute_result"
    },
    {
     "data": {
      "image/png": "[encoded data removed]",
      "text/plain": [
       "<Figure size 432x288 with 1 Axes>"
      ]
     },
     "metadata": {},
     "output_type": "display_data"
    }
   ],
   "source": [
    "df_scatter_time = df_ride[['moving_time', 'average_heartrate']]\n",
    "\n",
    "df_scatter_time['move_log'] = np.log10(df_scatter_time['moving_time'])\n",
    "\n",
    "colors = {'move_log': 'red', 'average_heartrate': 'blue'}\n",
    "\n",
    "df_scatter_time.plot.scatter(x='moving_time',y='average_heartrate')\n",
    "\n",
    "plt.title('Tempo Movimento x Media de Batimentos Cardíacos')\n"
   ]
  },
  {
   "cell_type": "code",
   "execution_count": 118,
   "metadata": {},
   "outputs": [
    {
     "data": {
      "text/plain": [
       "Text(0.5, 1.0, 'Elevação x Media de Batimentos Cardíacos')"
      ]
     },
     "execution_count": 118,
     "metadata": {},
     "output_type": "execute_result"
    },
    {
     "data": {
      "image/png": "[encoded data removed]",
      "text/plain": [
       "<Figure size 432x288 with 1 Axes>"
      ]
     },
     "metadata": {},
     "output_type": "display_data"
    }
   ],
   "source": [
    "df_scatter_elev = df_ride[['elev_high', 'average_heartrate']]\n",
    "\n",
    "df_scatter_elev.plot.scatter(x='elev_high',y='average_heartrate')\n",
    "\n",
    "plt.title('Elevação x Media de Batimentos Cardíacos')"
   ]
  },
  {
   "cell_type": "code",
   "execution_count": null,
   "metadata": {},
   "outputs": [],
   "source": [
    "# visualizando os tipos de atividades\n",
    "df_ride['sport_type'].unique()"
   ]
  },
  {
   "cell_type": "code",
   "execution_count": null,
   "metadata": {},
   "outputs": [],
   "source": [
    "# maior distancia\n",
    "df_ride['distance'].max()"
   ]
  },
  {
   "cell_type": "code",
   "execution_count": null,
   "metadata": {},
   "outputs": [],
   "source": [
    "# menor distancia\n",
    "df_ride['distance'].min()"
   ]
  },
  {
   "cell_type": "code",
   "execution_count": null,
   "metadata": {},
   "outputs": [],
   "source": [
    "# sumarizando a distancia por ano\n",
    "df_ride['year'] = pd.to_datetime(df_ride['start_date']).dt.year  # Extract the year\n",
    "result = df_ride.groupby('year')['distance'].sum().reset_index(name='totalKm')\n",
    "\n",
    "# grafico distancia ano\n",
    "\n",
    "# plotando o histograma\n",
    "plt.barh(result['year'], result['totalKm'])\n",
    "\n",
    "# incluindo título do gráfico e legenda\n",
    "plt.title('Total de KM por Ano')\n",
    "plt.ylabel('Total KM')\n",
    "plt.xlabel('Ano');\n"
   ]
  },
  {
   "cell_type": "code",
   "execution_count": null,
   "metadata": {},
   "outputs": [],
   "source": [
    "# pair plot 2 com Seaborn\n",
    "sns.pairplot(df_ride, hue = \"average_heartrate\");"
   ]
  },
  {
   "cell_type": "code",
   "execution_count": null,
   "metadata": {},
   "outputs": [],
   "source": [
    "# gráfico de correlação com Seaborn\n",
    "sns.heatmap(df_ride.corr(), annot=True, cmap='RdBu', vmin=-1, vmax=1);"
   ]
  },
  {
   "cell_type": "code",
   "execution_count": null,
   "metadata": {},
   "outputs": [],
   "source": [
    "# boxplot com Seaborn\n",
    "sns.boxplot(data = df_ride);"
   ]
  },
  {
   "cell_type": "code",
   "execution_count": null,
   "metadata": {},
   "outputs": [],
   "source": []
  }
 ],
 "metadata": {
  "kernelspec": {
   "display_name": "Python 3",
   "language": "python",
   "name": "python3"
  },
  "language_info": {
   "codemirror_mode": {
    "name": "ipython",
    "version": 3
   },
   "file_extension": ".py",
   "mimetype": "text/x-python",
   "name": "python",
   "nbconvert_exporter": "python",
   "pygments_lexer": "ipython3",
   "version": "3.9.6"
  }
 },
 "nbformat": 4,
 "nbformat_minor": 2
}
